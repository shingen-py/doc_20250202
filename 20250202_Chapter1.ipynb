{
  "nbformat": 4,
  "nbformat_minor": 0,
  "metadata": {
    "colab": {
      "provenance": [],
      "authorship_tag": "ABX9TyNOn5uoCthtpjJCzn8MICLD",
      "include_colab_link": true
    },
    "kernelspec": {
      "name": "python3",
      "display_name": "Python 3"
    },
    "language_info": {
      "name": "python"
    }
  },
  "cells": [
    {
      "cell_type": "markdown",
      "metadata": {
        "id": "view-in-github",
        "colab_type": "text"
      },
      "source": [
        "<a href=\"https://colab.research.google.com/github/yuukis/shingenpy_doc_20250202/blob/main/20250202_Chapter1.ipynb\" target=\"_parent\"><img src=\"https://colab.research.google.com/assets/colab-badge.svg\" alt=\"Open In Colab\"/></a>"
      ]
    },
    {
      "cell_type": "markdown",
      "source": [
        "# 1. オープニング\n",
        "\n",
        "### 1-1. ご挨拶\n",
        "- 本日は Shingen.py の勉強会にご参加いただきありがとうございます。\n",
        "\n",
        "### 1-2. Shingen.py について\n",
        "https://shingenpy.connpass.com/\n",
        "\n",
        "- 2019年1月に作られた山梨発の Python ユーザコミュニティ\n",
        "- 2018年11月に開催された PyconJP 主催のイベント [Python Boot Camp in 山梨](https://pyconjp.connpass.com/event/103507/) をきっかけに作られたコミュニティ（[ブログ記事](https://pyconjp.blogspot.com/2018/12/pycamp-in-yamanashi-report.html)）\n",
        "- これまで計108回イベントを開催、ユニークで計100名以上参加\n",
        "- 参加者同士で互いにインプット／アウトプットし合う学び合いの場\n",
        "  - 過去には山中湖で開発合宿も開催\n",
        "\n",
        "### 1-3. 本日のテーマ\n",
        "\n",
        "- __Pythonで学ぶ！\"やまなしデータプラットフォーム\"活用ハンズオン__\n",
        "  - 「やまなしデータプラットフォーム」とは？\n",
        "  - 提供されているAPIを体験\n",
        "  - データ活用の可能性を探る\n",
        "  - 参加者の感想や意見を山梨県にフィードバック\n",
        "\n",
        "### 1-4. 自己紹介\n",
        "\n",
        "- 本日お越しの参加者のみなさんで、簡単に自己紹介しましょう！\n",
        "  - お名前（ハンドルネームOK）\n",
        "  - 普段何をしているか"
      ],
      "metadata": {
        "id": "7dq2H26WEmlm"
      }
    }
  ]
}