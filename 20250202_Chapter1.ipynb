{
  "nbformat": 4,
  "nbformat_minor": 0,
  "metadata": {
    "colab": {
      "provenance": [],
      "authorship_tag": "ABX9TyOu4e6L/Z3Kr5TimaVPqTuS",
      "include_colab_link": true
    },
    "kernelspec": {
      "name": "python3",
      "display_name": "Python 3"
    },
    "language_info": {
      "name": "python"
    }
  },
  "cells": [
    {
      "cell_type": "markdown",
      "metadata": {
        "id": "view-in-github",
        "colab_type": "text"
      },
      "source": [
        "<a href=\"https://colab.research.google.com/github/yuukis/shingenpy_doc_20250202/blob/main/20250202_Chapter1.ipynb\" target=\"_parent\"><img src=\"https://colab.research.google.com/assets/colab-badge.svg\" alt=\"Open In Colab\"/></a>"
      ]
    },
    {
      "cell_type": "markdown",
      "source": [
        "# 1. オープニング\n",
        "\n",
        "### 1-1. ご挨拶\n",
        "- 本日は Shingen.py の勉強会にご参加いただきありがとうございます。\n",
        "\n",
        "### 1-2. Shingen.py について\n",
        "https://shingenpy.connpass.com/\n",
        "\n",
        "- 2019年1月に作られた山梨発の Python ユーザコミュニティ\n",
        "- 2018年11月に開催された PyconJP 主催のイベント [Python Boot Camp in 山梨](https://pyconjp.connpass.com/event/103507/) をきっかけに作られたコミュニティ（[ブログ記事](https://pyconjp.blogspot.com/2018/12/pycamp-in-yamanashi-report.html)）\n",
        "- これまで計108回イベントを開催、ユニークで計100名以上参加\n",
        "- 参加者同士で互いにインプット／アウトプットし合う学び合いの場\n",
        "- 座学形式の勉強会以外にも、もくもく会や読書会、過去には[山中湖で開発合宿](https://shingenpy.connpass.com/event/137829/)も開催\n",
        "\n",
        "![](https://raw.githubusercontent.com/shingen-py/doc_20250202/refs/heads/main/images/images.jpg)\n",
        "\n",
        "### 1-3. 本日のテーマ\n",
        "\n",
        "- __Pythonで学ぶ！\"やまなしデータプラットフォーム\"活用ハンズオン__\n",
        "  - 「やまなしデータプラットフォーム」とは？\n",
        "  - 提供されているAPIを体験\n",
        "  - データ活用の可能性を探る\n",
        "  - 参加者の感想や意見を山梨県にフィードバック\n",
        "\n",
        "### 1-4. 本日の勉強会の目的\n",
        "\n",
        "1. 山梨発の Python コミュニティとして、Python で山梨県に貢献する\n",
        "2. 山梨のプロジェクトが盛り上がることで、Shingen.py で開催する勉強会の機会を増やす\n",
        "3. 参加者同士で交流する\n",
        "\n",
        "### 1-5. 自己紹介\n",
        "\n",
        "- 本日お集まりのみなさんで、簡単に自己紹介しましょう！\n",
        "  - お名前（ハンドルネームOK）\n",
        "  - 普段何をしているか"
      ],
      "metadata": {
        "id": "7dq2H26WEmlm"
      }
    }
  ]
}