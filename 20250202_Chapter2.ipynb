{
  "nbformat": 4,
  "nbformat_minor": 0,
  "metadata": {
    "colab": {
      "provenance": [],
      "authorship_tag": "ABX9TyM3Yx6kuCJs3vhvDgR0wV/C",
      "include_colab_link": true
    },
    "kernelspec": {
      "name": "python3",
      "display_name": "Python 3"
    },
    "language_info": {
      "name": "python"
    }
  },
  "cells": [
    {
      "cell_type": "markdown",
      "metadata": {
        "id": "view-in-github",
        "colab_type": "text"
      },
      "source": [
        "<a href=\"https://colab.research.google.com/github/yuukis/shingenpy_doc_20250202/blob/main/20250202_Chapter2.ipynb\" target=\"_parent\"><img src=\"https://colab.research.google.com/assets/colab-badge.svg\" alt=\"Open In Colab\"/></a>"
      ]
    },
    {
      "cell_type": "markdown",
      "source": [
        "# 2. やまなしデータプラットフォームの概要\n",
        "\n",
        "## 2-1. 山梨県のオープンデータ提供について\n",
        "\n",
        "山梨県の公式ウェブサイトで公開しているオープンデータは、主に3つの提供元があります。\\\n",
        "[山梨県オープンデータ利用規約](https://www.pref.yamanashi.jp/opendata/kiyaku.html) に従い、利用しましょう。\n",
        "\n",
        "### 2-1-1. やまなしの統計\n",
        "https://www.pref.yamanashi.jp/opendata/statistics/toukei.html\n",
        "\n",
        "> 統計調査課が所管する「やまなしの統計」に掲載されているデータを、オープンデータとして公開中です。\n",
        "\n",
        "### 2-1-2. 山梨県オープンデータ検索\n",
        "https://www.pref.yamanashi.jp/opendata/catalog/\n",
        "\n",
        "> 情報政策課が所管するページから、山梨県ホームページに掲載されているオープンデータ（「やまなしデータプラットフォーム」掲載のデータを除く）の検索・ダウンロードができます。\n",
        "\n",
        "2025年1月30日現在、10,641件のデータが登録されています。\n",
        "\n",
        "### 2-1-3. やまなしデータプラットフォーム\n",
        "![](https://www.pref.yamanashi.jp/images/107656/yamanashi_dataplatform_image.jpg)\n",
        "\n",
        "https://dataplatform-yamanashi.jp/\n",
        "\n",
        "> 山梨県 ＤＸ・情報政策推進統括官（ＤＸ推進）が所管する「やまなしデータプラットフォーム」掲載のデータを、オープンデータとして公開中です。\\\n",
        "オープンデータを可視化しているダッシュボード機能や、オープンデータをアプリケーションに組み込みできるようAPIを提供しています。\n",
        "\n",
        "2025年1月30日現在、292件のデータセットが登録されています。\n",
        "\n",
        "---\n",
        "\n",
        "## 2-2. やまなしデータプラットフォームで提供する3つの機能\n",
        "\n",
        "### 2-2-1. ダッシュボード機能\n",
        "https://dataplatform-yamanashi.jp/dashboard\n",
        "\n",
        "> オープンデータを可視化し、ダッシュボードとして提供しています。\n",
        "\n",
        "### 2-2-2. データカタログ機能\n",
        "https://catalog.dataplatform-yamanashi.jp/\n",
        "\n",
        "> オープンデータをカタログサイトとして公開しています。\\\n",
        "誰でもダウンロード可能です。\n",
        "\n",
        "### 2-2-3. API機能\n",
        "https://dataplatform-yamanashi.jp/developer-portal/release\n",
        "\n",
        "> APIを用いてオープンデータを取得することができます。\\\n",
        "開発者ポータルから利用方法を確認することができます。\n",
        "\n",
        "__今回の勉強会では、主にこちらのAPI機能を利用していきます__\n",
        "\n",
        "---\n",
        "\n",
        "## 2-3. 演習（10分）\n",
        "\n",
        "### 2-3-1. API利用申請\n",
        "https://dataplatform-yamanashi.jp/developer-portal/howtouse\n",
        "\n",
        "- 上記サイトから各自 API利用申請を行いましょう。\n",
        "- 本日は本イベントのために事前申請したクライアント情報を利用してアクセスします。\n",
        "\n",
        "### 2-3-2. API利用規約\n",
        "https://dataplatform-yamanashi.jp/developer-portal/api-terms\n",
        "\n",
        "- API利用の前に、「やまなしデータプラットフォーム API利用規約」を確認しましょう。\n",
        "\n",
        "### 2-3-3. データ探索\n",
        "\n",
        "* 2-1 の各サイトから、どのようなデータが利用可能か探してみましょう。\n",
        "* 上記サイト以外にも、各市町村で提供しているオープンデータもあります。"
      ],
      "metadata": {
        "id": "UVM7BrvVFsjc"
      }
    }
  ]
}