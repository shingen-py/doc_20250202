{
  "nbformat": 4,
  "nbformat_minor": 0,
  "metadata": {
    "colab": {
      "provenance": [],
      "authorship_tag": "ABX9TyPOGDYMLZEo6Zx/9e5/N9h1",
      "include_colab_link": true
    },
    "kernelspec": {
      "name": "python3",
      "display_name": "Python 3"
    },
    "language_info": {
      "name": "python"
    }
  },
  "cells": [
    {
      "cell_type": "markdown",
      "metadata": {
        "id": "view-in-github",
        "colab_type": "text"
      },
      "source": [
        "<a href=\"https://colab.research.google.com/github/yuukis/shingenpy_doc_20250202/blob/main/20250202_Chapter3.ipynb\" target=\"_parent\"><img src=\"https://colab.research.google.com/assets/colab-badge.svg\" alt=\"Open In Colab\"/></a>"
      ]
    },
    {
      "cell_type": "markdown",
      "source": [
        "# 3. ハンズオン: API利用体験\n",
        "\n",
        "## 3-1. API仕様\n",
        "\n",
        "### 3-1-1. 概要\n",
        "https://dataplatform-yamanashi.jp/developer-portal/about-api\n",
        "\n",
        "> データカタログサイトの情報の一部をAPIにて提供しています。\\\n",
        "オープンソースソフトウェアである FIWARE（ファイウェア）をベースに作成されています。\n",
        "\n",
        "> 本APIはFIWARE Orion Context Brokerを用いて構築しているため、本APIへのリクエストはOrion Context Brokerの仕様に準拠した形で実施ください。\n",
        "\n",
        "![](https://dataplatform-yamanashi.jp/img/about-api.a8931241.png)\n",
        "\n",
        "### 3-1-2. FIWARE について\n",
        "\n",
        "FIWARE は、スマートシティ、スマートインダストリー、スマートアグリカルチャーなどの分野でデータを活用するための オープンソースプラットフォーム です。\\\n",
        "FIWARE は、さまざまなデバイスやシステムから収集したデータを統合・管理し、それを活用するための標準化された仕組みを提供します。\n",
        "\n",
        "#### FIWAREの特徴\n",
        "1. __オープンソース__\\\n",
        "無料で利用でき、コミュニティによって開発・運用されています。\\\n",
        "ヨーロッパ発のプロジェクトで、現在はグローバルに広がっています。\n",
        "\n",
        "2. __標準化されたデータ管理__\\\n",
        "スマートシティやIoT向けの NGSI (Next Generation Service Interfaces) API を提供。\\\n",
        "異なるシステム間でデータを統一的に扱えます。\n",
        "\n",
        "3. __モジュール化されたアーキテクチャ__\\\n",
        "コアとなる Orion Context Broker を中心に、さまざまなコンポーネント（データベース、分析ツール、可視化ツールなど）を組み合わせて利用できます。\n",
        "\n",
        "### 3-1-3. FIWARE Orion Context Broker について\n",
        "https://fiware-orion.readthedocs.io/en/master/\n",
        "\n",
        "Orion Context Broker は、FIWARE プラットフォームの一部として提供されるソフトウェアコンポーネントで、リアルタイムのコンテキストデータ管理と共有を可能にします。\\\n",
        "主にスマートシティやIoTアプリケーションの開発に用いられ、デバイスやシステムから得られるデータを統合し、リアルタイムにアクセスできるようにする役割を果たします。\n",
        "\n",
        "#### 主な特徴\n",
        "1. __NGSI標準に準拠__\\\n",
        "Orion Context Brokerは、ETSIが策定したNGSI（Next Generation Service Interface）標準を使用して、コンテキストデータの管理とやり取りを行います。この標準により、データの相互運用性が確保されます。\n",
        "\n",
        "2. __リアルタイムデータ更新と管理__\\\n",
        "デバイスやセンサーから送信されるリアルタイムデータを受信し、それをアプリケーションに提供します。データは「エンティティ」「属性」「メタデータ」として構造化されています。\n",
        "\n",
        "3. __コンテキストデータのサブスクリプションと通知__\\\n",
        "クライアントは特定の条件（例: データの変化や一定の条件が満たされた場合）を指定して、データの更新をサブスクライブできます。変更が発生すると通知が行われます。\n",
        "\n",
        "4. __スケーラビリティ__\\\n",
        "大量のデータを扱えるように設計されており、スマートシティや産業IoTの大規模な環境にも対応可能です。\n",
        "\n",
        "5. __統合可能性__\\\n",
        "他のFIWAREコンポーネントや外部のシステムと容易に統合できるように設計されています。"
      ],
      "metadata": {
        "id": "DlInMkbrGcGb"
      }
    },
    {
      "cell_type": "markdown",
      "source": [
        "---\n",
        "## 3-2. API認証\n",
        "https://dataplatform-yamanashi.jp/developer-portal/sample-code\n",
        "\n",
        "> 本APIを利用する際のアクセストークンを発行させるためのサンプルコードを以下に記載します。\\\n",
        "なお、アクセストークンの有効期限は300秒となります。\n",
        "\n",
        "cURL\n",
        "```sh\n",
        "curl --location --request POST 'https://idm.dataplatform-yamanashi.jp/auth/realms/Smartcity/protocol/openid-connect/token'\n",
        "--header 'Authorization: Basic ['クライアントID:クライアント・シークレット'をBase64エンコードした文字列]'\n",
        "--header 'Content-Type: application/x-www-form-urlencoded'\n",
        "--data-urlencode 'grant_type=client_credentials'\n",
        "```\n",
        "\n",
        "Python - Requests\n",
        "```python\n",
        "import requests\n",
        "\n",
        "url = \"https://idm.dataplatform-yamanashi.jp/auth/realms/Smartcity/protocol/openid-connect/token\"\n",
        "\n",
        "payload='grant_type=client_credentials'\n",
        "headers = {\n",
        "  'Authorization': 'Basic ['クライアントID:クライアント・シークレット'をBase64エンコードした文字列]',\n",
        "  'Content-Type': 'application/x-www-form-urlencoded',\n",
        "}\n",
        "\n",
        "response = requests.request(\"POST\", url, headers=headers, data=payload)\n",
        "\n",
        "print(response.text)\n",
        "```"
      ],
      "metadata": {
        "id": "vsSino30RG49"
      }
    },
    {
      "cell_type": "code",
      "source": [
        "# コード実行に必要なライブラリのインストール\n",
        "!pip install requests python-dotenv"
      ],
      "metadata": {
        "colab": {
          "base_uri": "https://localhost:8080/"
        },
        "id": "MFkLtf5RGkMR",
        "outputId": "72b8a6b1-3f5b-4cb7-b70c-c5e459eb4819"
      },
      "execution_count": 2,
      "outputs": [
        {
          "output_type": "stream",
          "name": "stdout",
          "text": [
            "Requirement already satisfied: requests in /usr/local/lib/python3.11/dist-packages (2.32.3)\n",
            "Collecting python-dotenv\n",
            "  Downloading python_dotenv-1.0.1-py3-none-any.whl.metadata (23 kB)\n",
            "Requirement already satisfied: charset-normalizer<4,>=2 in /usr/local/lib/python3.11/dist-packages (from requests) (3.4.1)\n",
            "Requirement already satisfied: idna<4,>=2.5 in /usr/local/lib/python3.11/dist-packages (from requests) (3.10)\n",
            "Requirement already satisfied: urllib3<3,>=1.21.1 in /usr/local/lib/python3.11/dist-packages (from requests) (2.3.0)\n",
            "Requirement already satisfied: certifi>=2017.4.17 in /usr/local/lib/python3.11/dist-packages (from requests) (2024.12.14)\n",
            "Downloading python_dotenv-1.0.1-py3-none-any.whl (19 kB)\n",
            "Installing collected packages: python-dotenv\n",
            "Successfully installed python-dotenv-1.0.1\n"
          ]
        }
      ]
    },
    {
      "cell_type": "code",
      "source": [
        "import os\n",
        "import requests\n",
        "import base64\n",
        "from dotenv import load_dotenv\n",
        "from IPython.display import display\n",
        "\n",
        "# .envファイルから環境変数を読み込む\n",
        "load_dotenv(\"api.env\")\n",
        "client_id = os.getenv('CLIENT_ID')\n",
        "client_secret = os.getenv('CLIENT_SECRET')\n",
        "\n",
        "# 'クライアントID:クライアント・シークレット'をBase64エンコードした文字列\n",
        "b64encoded = base64.b64encode(f\"{client_id}:{client_secret}\".encode()).decode()\n",
        "\n",
        "url = \"https://idm.dataplatform-yamanashi.jp/auth/realms/Smartcity/protocol/openid-connect/token\"\n",
        "headers = {\n",
        "  'Authorization': f\"Basic {b64encoded}\",\n",
        "  'Content-Type': 'application/x-www-form-urlencoded',\n",
        "}\n",
        "payload = 'grant_type=client_credentials'\n",
        "\n",
        "response = requests.request(\"POST\", url, headers=headers, data=payload)\n",
        "# print(response.text)\n",
        "display(response.json())\n"
      ],
      "metadata": {
        "colab": {
          "base_uri": "https://localhost:8080/",
          "height": 245
        },
        "id": "hEZ81vziNX32",
        "outputId": "145c488b-1f98-4337-cc00-e0958f123256"
      },
      "execution_count": 3,
      "outputs": [
        {
          "output_type": "display_data",
          "data": {
            "text/plain": [
              "{'access_token': 'eyJhbGciOiJSUzI1NiIsInR5cCIgOiAiSldUIiwia2lkIiA6ICJDZHp3cDhkRFVBbzFlcjVuT3FvTXZYbmNwclF1SGFtQVRzcjcxeWZMbHBRIn0.eyJleHAiOjE3MzgyOTgzOTksImlhdCI6MTczODI5ODA5OSwianRpIjoiYzU3Nzc5OGEtZGM5Ni00N2ZiLWEyMDgtY2QwMjAzNWYxODMzIiwiaXNzIjoiaHR0cHM6Ly9pZG0uZGF0YXBsYXRmb3JtLXlhbWFuYXNoaS5qcC9hdXRoL3JlYWxtcy9TbWFydGNpdHkiLCJhdWQiOiJhY2NvdW50Iiwic3ViIjoiZDQwYTJjNmQtZTMyNy00OTVkLWE0MjMtYTdlMGMzNzU4MzM2IiwidHlwIjoiQmVhcmVyIiwiYXpwIjoiMjAyNS0wMS0wMDEiLCJhY3IiOiIxIiwicmVhbG1fYWNjZXNzIjp7InJvbGVzIjpbIm9mZmxpbmVfYWNjZXNzIiwidW1hX2F1dGhvcml6YXRpb24iLCJkZWZhdWx0LXJvbGVzLXNtYXJ0Y2l0eSJdfSwicmVzb3VyY2VfYWNjZXNzIjp7ImFjY291bnQiOnsicm9sZXMiOlsibWFuYWdlLWFjY291bnQiLCJtYW5hZ2UtYWNjb3VudC1saW5rcyIsInZpZXctcHJvZmlsZSJdfX0sInNjb3BlIjoiR0VULi9uZ3NpL3YyL2VudGl0aWVzIEdFVC4vbmdzaS92Mi9yZWdpc3RyYXRpb25zIHByb2ZpbGUgUE9TVC4vbmdzaS92Mi9vcC9xdWVyeSBHRVQuL25nc2kvdmVyc2lvbiBHRVQuL25nc2kvdjIvZW50aXRpZXMvKiBHRVQuL25nc2kvdjIvdHlwZXMvKiBlbWFpbCBHRVQuL25nc2kvdjIvZW50aXRpZXMvKi9hdHRycy8qL3ZhbHVlIEdFVC4vbmdzaS92Mi9lbnRpdGllcy8qL2F0dHJzIEdFVC4vbmdzaS92Mi9lbnRpdGllcy8qL2F0dHJzLyogR0VULi9uZ3NpL3YyL3R5cGVzLyBHRVQuL25nc2kvdjIgR0VULi9uZ3NpL3YyL3JlZ2lzdHJhdGlvbnMvKiIsImNsaWVudEhvc3QiOiIzNC4xMDYuMTcuMTQ3IiwiY2xpZW50SWQiOiIyMDI1LTAxLTAwMSIsImVtYWlsX3ZlcmlmaWVkIjpmYWxzZSwicHJlZmVycmVkX3VzZXJuYW1lIjoic2VydmljZS1hY2NvdW50LTIwMjUtMDEtMDAxIiwiY2xpZW50QWRkcmVzcyI6IjM0LjEwNi4xNy4xNDcifQ.jjgOygp8FhHrO1-8BXhiwJucCwatU1TfH85UOqvKIt5L7l_MqWlZJ9gpk1rSvMqM9EIts8a45NPWv4f8hTeXm4l4jl3IqAgQ-eTvahOr_EdoFTGOBnqdlZvWZCZp-wwlugmd3tSta-Lk17h4gJGSmCYB0GwK6nieGIc8C2YznHWKWe6_-EjGlPppVz3FR7vNxmQWmVeB7IZabW3U66SnflAW-rFSTpFqFqusDiMJB8U5xo96rem-on-uZQKIAzTIRzv1cFKsOyZ_TOveszn95nP8K79bwcQE6U0YCNxc1Ej3XT1HIK7nnH-wgtMtfemrliaEn_FufwnIyFWD_O27BA',\n",
              " 'expires_in': 300,\n",
              " 'refresh_expires_in': 0,\n",
              " 'token_type': 'Bearer',\n",
              " 'not-before-policy': 0,\n",
              " 'scope': 'GET./ngsi/v2/entities GET./ngsi/v2/registrations profile POST./ngsi/v2/op/query GET./ngsi/version GET./ngsi/v2/entities/* GET./ngsi/v2/types/* email GET./ngsi/v2/entities/*/attrs/*/value GET./ngsi/v2/entities/*/attrs GET./ngsi/v2/entities/*/attrs/* GET./ngsi/v2/types/ GET./ngsi/v2 GET./ngsi/v2/registrations/*'}"
            ]
          },
          "metadata": {}
        }
      ]
    },
    {
      "cell_type": "code",
      "source": [
        "# アクセストークンを取得する関数\n",
        "def get_token(client_id, client_secret):\n",
        "  b64encoded = base64.b64encode(f\"{client_id}:{client_secret}\".encode()).decode()\n",
        "\n",
        "  url = \"https://idm.dataplatform-yamanashi.jp/auth/realms/Smartcity/protocol/openid-connect/token\"\n",
        "  headers = {\n",
        "    'Authorization': f\"Basic {b64encoded}\",\n",
        "    'Content-Type': 'application/x-www-form-urlencoded',\n",
        "  }\n",
        "  payload = 'grant_type=client_credentials'\n",
        "  response = requests.request(\"POST\", url, headers=headers, data=payload)\n",
        "  accesss_token = response.json()['access_token']\n",
        "\n",
        "  return accesss_token\n",
        "\n",
        "# アクセストークンを取得\n",
        "accesss_token = get_token(client_id, client_secret)\n",
        "display(accesss_token)"
      ],
      "metadata": {
        "colab": {
          "base_uri": "https://localhost:8080/",
          "height": 157
        },
        "id": "t9u98-5WUQcq",
        "outputId": "e6fcaf9b-9866-45c6-af7a-547a81754ea3"
      },
      "execution_count": 4,
      "outputs": [
        {
          "output_type": "display_data",
          "data": {
            "text/plain": [
              "'eyJhbGciOiJSUzI1NiIsInR5cCIgOiAiSldUIiwia2lkIiA6ICJDZHp3cDhkRFVBbzFlcjVuT3FvTXZYbmNwclF1SGFtQVRzcjcxeWZMbHBRIn0.eyJleHAiOjE3MzgyOTg0MDksImlhdCI6MTczODI5ODEwOSwianRpIjoiNTJlODFkMDQtM2EwMy00ZGUzLTk0ZGEtOWVjZjkzY2EzOTliIiwiaXNzIjoiaHR0cHM6Ly9pZG0uZGF0YXBsYXRmb3JtLXlhbWFuYXNoaS5qcC9hdXRoL3JlYWxtcy9TbWFydGNpdHkiLCJhdWQiOiJhY2NvdW50Iiwic3ViIjoiZDQwYTJjNmQtZTMyNy00OTVkLWE0MjMtYTdlMGMzNzU4MzM2IiwidHlwIjoiQmVhcmVyIiwiYXpwIjoiMjAyNS0wMS0wMDEiLCJhY3IiOiIxIiwicmVhbG1fYWNjZXNzIjp7InJvbGVzIjpbIm9mZmxpbmVfYWNjZXNzIiwidW1hX2F1dGhvcml6YXRpb24iLCJkZWZhdWx0LXJvbGVzLXNtYXJ0Y2l0eSJdfSwicmVzb3VyY2VfYWNjZXNzIjp7ImFjY291bnQiOnsicm9sZXMiOlsibWFuYWdlLWFjY291bnQiLCJtYW5hZ2UtYWNjb3VudC1saW5rcyIsInZpZXctcHJvZmlsZSJdfX0sInNjb3BlIjoiR0VULi9uZ3NpL3YyL2VudGl0aWVzIEdFVC4vbmdzaS92Mi9yZWdpc3RyYXRpb25zIHByb2ZpbGUgUE9TVC4vbmdzaS92Mi9vcC9xdWVyeSBHRVQuL25nc2kvdmVyc2lvbiBHRVQuL25nc2kvdjIvZW50aXRpZXMvKiBHRVQuL25nc2kvdjIvdHlwZXMvKiBlbWFpbCBHRVQuL25nc2kvdjIvZW50aXRpZXMvKi9hdHRycy8qL3ZhbHVlIEdFVC4vbmdzaS92Mi9lbnRpdGllcy8qL2F0dHJzIEdFVC4vbmdzaS92Mi9lbnRpdGllcy8qL2F0dHJzLyogR0VULi9uZ3NpL3YyL3R5cGVzLyBHRVQuL25nc2kvdjIgR0VULi9uZ3NpL3YyL3JlZ2lzdHJhdGlvbnMvKiIsImNsaWVudEhvc3QiOiIzNC4xMDYuMTcuMTQ3IiwiY2xpZW50SWQiOiIyMDI1LTAxLTAwMSIsImVtYWlsX3ZlcmlmaWVkIjpmYWxzZSwicHJlZmVycmVkX3VzZXJuYW1lIjoic2VydmljZS1hY2NvdW50LTIwMjUtMDEtMDAxIiwiY2xpZW50QWRkcmVzcyI6IjM0LjEwNi4xNy4xNDcifQ.Tj_bkR9RNEYl_dx0eGG5h-KGfZUAmuTiV24LOkj0nGsl9fV4C3wSenJ3rZGNlBQ_BF-ahiQLYZ_XrBX5GcKhhUEXrKp2XmMhGqjULBMA_2vGrynxMiPB-XBB1OYSraO9mlvimmvsrOFnCw63einHi-1g4UXs2Xspyk7pgHjs9rfkuDSlOFTDs9a-RQqF72XOVvFMVmifLdjuKw2KmdyVEoIhxavkKv9E_g0XIcj02yf_syLdzBcw5LPQ0xkiRVeBTIxe0Cj3bSwYG9AZNVhtU14pL5_1qE20uafAXmknA5CRLwK6pLj4PMKgpXD2R2glx1s31DwvsJmkSLwiACqcjg'"
            ],
            "application/vnd.google.colaboratory.intrinsic+json": {
              "type": "string"
            }
          },
          "metadata": {}
        }
      ]
    },
    {
      "cell_type": "markdown",
      "source": [
        "---\n",
        "## 3-3. APIによるデータの取得\n",
        "\n",
        "### 3-3-1. エンティティ\n",
        "\n",
        "FIWARE Orion Context Broker における エンティティ (Entity) とは、現実世界のモノや概念をデジタルで表現するデータモデルのことです。\n",
        "\n",
        "#### エンティティの構成\n",
        "エンティティは、以下のような情報を持ちます：\n",
        "\n",
        "- __ID (id)__: エンティティの一意な識別子\n",
        "- __タイプ (type)__: エンティティの種類（例: AirQualityObserved, TrafficFlowObserved など）\n",
        "- __属性 (attributes)__: エンティティの特性や状態を表すデータ（例: 温度、湿度、二酸化炭素濃度など）\n",
        "\n",
        "### 3-3-2. エンティティ取得 API (GET /v2/entities)\n",
        "\n",
        "このエンドポイントを使用すると、Orion Context Broker に保存されているエンティティを検索・取得できます。\n",
        "\n",
        "https://swagger.lab.fiware.org/#/Entities/List%20Entities\n",
        "\n",
        "#### 主なクエリパラメータ\n",
        "\n",
        "| パラメータ      | 型        | 説明 |\n",
        "|---------------|----------|------|\n",
        "| **id**       | `string`  | 取得したいエンティティの ID（カンマ区切りで複数指定可能）|\n",
        "| **type**     | `string`  | 取得したいエンティティの種類（例：`AirQualityObserved`）。複数指定可能（カンマ区切り）|\n",
        "| **idPattern** | `string`  | 正規表現を使って ID を検索。例：`Room.*` なら `Room1`, `RoomA` などに一致|\n",
        "| **typePattern** | `string`  | 正規表現を使ってエンティティタイプを検索|\n",
        "| **q**        | `string`  | 属性値の条件を指定するフィルタ（例：`temperature>20` で気温20度以上のエンティティを取得）|\n",
        "| **mq**       | `string`  | メタデータに基づく検索。例：`accuracy<0.5` で精度が 0.5 未満のデータを取得|\n",
        "| **georel**   | `string`  | 空間検索の関係を指定（例：`near;maxDistance:1000` は指定地点から1km以内のデータを取得）|\n",
        "| **geometry** | `string`  | 空間検索の対象形状（例：`point`, `polygon`, `line` など）|\n",
        "| **coords**   | `string`  | 空間検索の座標を指定（例：`40.4168,-3.7038` はマドリードの座標）|\n",
        "| **attrs**    | `string`  | 取得したい属性を指定（カンマ区切り）。指定しない場合はすべての属性が取得される|\n",
        "| **metadata** | `string`  | 取得したいメタデータを指定（例：`timestamp` でタイムスタンプのみ取得）|\n",
        "| **orderBy**  | `string`  | ソート条件（例：`temperature` で気温の昇順、`!temperature` で降順）|\n",
        "| **limit**    | `integer` | 取得するエンティティの最大数（デフォルト：20）|\n",
        "| **offset**   | `integer` | 取得結果の開始位置（ページネーション用）|\n",
        "| **options**  | `string`  | `count` を指定すると、レスポンスヘッダーに `X-Total-Count` が追加され、エンティティの総数がわかる|\n",
        "\n",
        "#### サンプルコード\n",
        "\n",
        "APIを利用したデータ一覧の取得を行うためのサンプルコードを以下に記載します。\n",
        "\n",
        "cURL\n",
        "```sh\n",
        "curl --location --request GET 'https://api.dataplatform-yamanashi.jp/ngsi/v2/entities'\n",
        "--header 'Authorization: Bearer [認証して取得したアクセストークン]'\n",
        "```\n",
        "\n",
        "Python - Requests\n",
        "```python\n",
        "import requests\n",
        "\n",
        "url = \"https://api.dataplatform-yamanashi.jp/ngsi/v2/entities\"\n",
        "\n",
        "payload={}\n",
        "headers = {\n",
        "  'Authorization': 'Bearer [認証して取得したアクセストークン]'\n",
        "}\n",
        "\n",
        "response = requests.request(\"GET\", url, headers=headers, data=payload)\n",
        "\n",
        "print(response.text)\n",
        "```"
      ],
      "metadata": {
        "id": "2HiFYWuuVFj0"
      }
    },
    {
      "cell_type": "code",
      "source": [
        "url = \"https://api.dataplatform-yamanashi.jp/ngsi/v2/entities\"\n",
        "\n",
        "payload={}\n",
        "headers = {\n",
        "  'Authorization': f\"Bearer {get_token(client_id, client_secret)}\"\n",
        "}\n",
        "\n",
        "response = requests.request(\"GET\", url, headers=headers, data=payload)\n",
        "\n",
        "display(response.text)"
      ],
      "metadata": {
        "colab": {
          "base_uri": "https://localhost:8080/",
          "height": 157
        },
        "id": "mLHPoFStZHpj",
        "outputId": "1c364e19-0717-4c26-eae9-bd0b33949928"
      },
      "execution_count": 5,
      "outputs": [
        {
          "output_type": "display_data",
          "data": {
            "text/plain": [
              "'[{\"id\":\"urn:ngsi-ld:covid19_test_weekly:1\",\"type\":\"covid19_test_weekly\",\"breakdown_of_consultation\":{\"type\":\"text\",\"value\":\"\",\"metadata\":{\"base_col_name\":{\"type\":\"text\",\"value\":\"相談件数内訳\"}}},\"consultation_number_meter_1_week\":{\"type\":\"numeric\",\"value\":\"\",\"metadata\":{\"base_col_name\":{\"type\":\"text\",\"value\":\"相談件数計_１週間\"}}},\"consultation_reception_period\":{\"type\":\"text\",\"value\":\"\",\"metadata\":{\"base_col_name\":{\"type\":\"text\",\"value\":\"相談受付期間\"}}},\"date\":{\"type\":\"timestamp\",\"value\":\"2020-12-31T00:00:00\",\"metadata\":{\"base_col_name\":{\"type\":\"text\",\"value\":\"日付\"}}},\"day_of_week\":{\"type\":\"text\",\"value\":\"木曜日\",\"metadata\":{\"base_col_name\":{\"type\":\"text\",\"value\":\"曜日\"}}},\"inspection_number_meter_1_week\":{\"type\":\"numeric\",\"value\":\"\",\"metadata\":{\"base_col_name\":{\"type\":\"text\",\"value\":\"検査件数計_１週間\"}}},\"number_of_consultations\":{\"type\":\"numeric\",\"value\":172,\"metadata\":{\"base_col_name\":{\"type\":\"text\",\"value\":\"相談件数\"}}},\"number_of_inspections\":{\"type\":\"numeric\",\"value\":112,\"metadata\":{\"base_col_name\":{\"type\":\"text\",\"value\":\"検査件数\"}}},\"of_which_medical_institution_in_the_prefecture\":{\"type\":\"numeric\",\"value\":82,\"metadata\":{\"base_col_name\":{\"type\":\"text\",\"value\":\"うち県内医療機関\"}}},\"of_which_medical_institution_in_the_prefecture_1_week\":{\"type\":\"numeric\",\"value\":\"\",\"metadata\":{\"base_col_name\":{\"type\":\"text\",\"value\":\"うち県内医療機関_１週間\"}}},\"of_which_prefectural_health_environment_research_institute\":{\"type\":\"numeric\",\"value\":30,\"metadata\":{\"base_col_name\":{\"type\":\"text\",\"value\":\"うち県衛生環境研究所\"}}},\"of_which_the_prefectural_hygiene_research_institute_1_week\":{\"type\":\"numeric\",\"value\":\"\",\"metadata\":{\"base_col_name\":{\"type\":\"text\",\"value\":\"うち県衛生研究所_１週間\"}}},\"prosenic_collection_date\":{\"type\":\"text\",\"value\":\"\",\"metadata\":{\"base_col_name\":{\"type\":\"text\",\"value\":\"検体採取日\"}}}},{\"id\":\"urn:ngsi-ld:covid19_test_weekly:2\",\"type\":\"covid19_test_weekly\",\"breakdown_of_consultation\":{\"type\":\"text\",\"value\":\"\",\"metadata\":{\"base_col_name\":{\"type\":\"text\",\"value\":\"相談件数内訳\"}}},\"consultation_number_meter_1_week\":{\"type\":\"numeric\",\"value\":\"\",\"metadata\":{\"base_col_name\":{\"type\":\"text\",\"value\":\"相談件数計_１週間\"}}},\"consultation_reception_period\":{\"type\":\"text\",\"value\":\"\",\"metadata\":{\"base_col_name\":{\"type\":\"text\",\"value\":\"相談受付期間\"}}},\"date\":{\"type\":\"timestamp\",\"value\":\"2021-01-01T00:00:00\",\"metadata\":{\"base_col_name\":{\"type\":\"text\",\"value\":\"日付\"}}},\"day_of_week\":{\"type\":\"text\",\"value\":\"金曜日\",\"metadata\":{\"base_col_name\":{\"type\":\"text\",\"value\":\"曜日\"}}},\"inspection_number_meter_1_week\":{\"type\":\"numeric\",\"value\":\"\",\"metadata\":{\"base_col_name\":{\"type\":\"text\",\"value\":\"検査件数計_１週間\"}}},\"number_of_consultations\":{\"type\":\"numeric\",\"value\":145,\"metadata\":{\"base_col_name\":{\"type\":\"text\",\"value\":\"相談件数\"}}},\"number_of_inspections\":{\"type\":\"numeric\",\"value\":155,\"metadata\":{\"base_col_name\":{\"type\":\"text\",\"value\":\"検査件数\"}}},\"of_which_medical_institution_in_the_prefecture\":{\"type\":\"numeric\",\"value\":134,\"metadata\":{\"base_col_name\":{\"type\":\"text\",\"value\":\"うち県内医療機関\"}}},\"of_which_medical_institution_in_the_prefecture_1_week\":{\"type\":\"numeric\",\"value\":\"\",\"metadata\":{\"base_col_name\":{\"type\":\"text\",\"value\":\"うち県内医療機関_１週間\"}}},\"of_which_prefectural_health_environment_research_institute\":{\"type\":\"numeric\",\"value\":21,\"metadata\":{\"base_col_name\":{\"type\":\"text\",\"value\":\"うち県衛生環境研究所\"}}},\"of_which_the_prefectural_hygiene_research_institute_1_week\":{\"type\":\"numeric\",\"value\":\"\",\"metadata\":{\"base_col_name\":{\"type\":\"text\",\"value\":\"うち県衛生研究所_１週間\"}}},\"prosenic_collection_date\":{\"type\":\"text\",\"value\":\"\",\"metadata\":{\"base_col_name\":{\"type\":\"text\",\"value\":\"検体採取日\"}}}},{\"id\":\"urn:ngsi-ld:covid19_test_weekly:3\",\"type\":\"covid19_test_weekly\",\"breakdown_of_consultation\":{\"type\":\"text\",\"value\":\"\",\"metadata\":{\"base_col_name\":{\"type\":\"text\",\"value\":\"相談件数内訳\"}}},\"consultation_number_meter_1_week\":{\"type\":\"numeric\",\"value\":\"\",\"metadata\":{\"base_col_name\":{\"type\":\"text\",\"value\":\"相談件数計_１週間\"}}},\"consultation_reception_period\":{\"type\":\"text\",\"value\":\"\",\"metadata\":{\"base_col_name\":{\"type\":\"text\",\"value\":\"相談受付期間\"}}},\"date\":{\"type\":\"timestamp\",\"value\":\"2021-01-02T00:00:00\",\"metadata\":{\"base_col_name\":{\"type\":\"text\",\"value\":\"日付\"}}},\"day_of_week\":{\"type\":\"text\",\"value\":\"土曜日\",\"metadata\":{\"base_col_name\":{\"type\":\"text\",\"value\":\"曜日\"}}},\"inspection_number_meter_1_week\":{\"type\":\"numeric\",\"value\":\"\",\"metadata\":{\"base_col_name\":{\"type\":\"text\",\"value\":\"検査件数計_１週間\"}}},\"number_of_consultations\":{\"type\":\"numeric\",\"value\":157,\"metadata\":{\"base_col_name\":{\"type\":\"text\",\"value\":\"相談件数\"}}},\"number_of_inspections\":{\"type\":\"numeric\",\"value\":187,\"metadata\":{\"base_col_name\":{\"type\":\"text\",\"value\":\"検査件数\"}}},\"of_which_medical_institution_in_the_prefecture\":{\"type\":\"numeric\",\"value\":170,\"metadata\":{\"base_col_name\":{\"type\":\"text\",\"value\":\"うち県内医療機関\"}}},\"of_which_medical_institution_in_the_prefecture_1_week\":{\"type\":\"numeric\",\"value\":\"\",\"metadata\":{\"base_col_name\":{\"type\":\"text\",\"value\":\"うち県内医療機関_１週間\"}}},\"of_which_prefectural_health_environment_research_institute\":{\"type\":\"numeric\",\"value\":17,\"metadata\":{\"base_col_name\":{\"type\":\"text\",\"value\":\"うち県衛生環境研究所\"}}},\"of_which_the_prefectural_hygiene_research_institute_1_week\":{\"type\":\"numeric\",\"value\":\"\",\"metadata\":{\"base_col_name\":{\"type\":\"text\",\"value\":\"うち県衛生研究所_１週間\"}}},\"prosenic_collection_date\":{\"type\":\"text\",\"value\":\"\",\"metadata\":{\"base_col_name\":{\"type\":\"text\",\"value\":\"検体採取日\"}}}},{\"id\":\"urn:ngsi-ld:covid19_test_weekly:4\",\"type\":\"covid19_test_weekly\",\"breakdown_of_consultation\":{\"type\":\"text\",\"value\":\"\",\"metadata\":{\"base_col_name\":{\"type\":\"text\",\"value\":\"相談件数内訳\"}}},\"consultation_number_meter_1_week\":{\"type\":\"numeric\",\"value\":\"\",\"metadata\":{\"base_col_name\":{\"type\":\"text\",\"value\":\"相談件数計_１週間\"}}},\"consultation_reception_period\":{\"type\":\"text\",\"value\":\"\",\"metadata\":{\"base_col_name\":{\"type\":\"text\",\"value\":\"相談受付期間\"}}},\"date\":{\"type\":\"timestamp\",\"value\":\"2021-01-03T00:00:00\",\"metadata\":{\"base_col_name\":{\"type\":\"text\",\"value\":\"日付\"}}},\"day_of_week\":{\"type\":\"text\",\"value\":\"日曜日\",\"metadata\":{\"base_col_name\":{\"type\":\"text\",\"value\":\"曜日\"}}},\"inspection_number_meter_1_week\":{\"type\":\"numeric\",\"value\":\"\",\"metadata\":{\"base_col_name\":{\"type\":\"text\",\"value\":\"検査件数計_１週間\"}}},\"number_of_consultations\":{\"type\":\"numeric\",\"value\":160,\"metadata\":{\"base_col_name\":{\"type\":\"text\",\"value\":\"相談件数\"}}},\"number_of_inspections\":{\"type\":\"numeric\",\"value\":284,\"metadata\":{\"base_col_name\":{\"type\":\"text\",\"value\":\"検査件数\"}}},\"of_which_medical_institution_in_the_prefecture\":{\"type\":\"numeric\",\"value\":270,\"metadata\":{\"base_col_name\":{\"type\":\"text\",\"value\":\"うち県内医療機関\"}}},\"of_which_medical_institution_in_the_prefecture_1_week\":{\"type\":\"numeric\",\"value\":\"\",\"metadata\":{\"base_col_name\":{\"type\":\"text\",\"value\":\"うち県内医療機関_１週間\"}}},\"of_which_prefectural_health_environment_research_institute\":{\"type\":\"numeric\",\"value\":14,\"metadata\":{\"base_col_name\":{\"type\":\"text\",\"value\":\"うち県衛生環境研究所\"}}},\"of_which_the_prefectural_hygiene_research_institute_1_week\":{\"type\":\"numeric\",\"value\":\"\",\"metadata\":{\"base_col_name\":{\"type\":\"text\",\"value\":\"うち県衛生研究所_１週間\"}}},\"prosenic_collection_date\":{\"type\":\"text\",\"value\":\"\",\"metadata\":{\"base_col_name\":{\"type\":\"text\",\"value\":\"検体採取日\"}}}},{\"id\":\"urn:ngsi-ld:covid19_test_weekly:5\",\"type\":\"covid19_test_weekly\",\"breakdown_of_consultation\":{\"type\":\"text\",\"value\":\"\",\"metadata\":{\"base_col_name\":{\"type\":\"text\",\"value\":\"相談件数内訳\"}}},\"consultation_number_meter_1_week\":{\"type\":\"numeric\",\"value\":\"\",\"metadata\":{\"base_col_name\":{\"type\":\"text\",\"value\":\"相談件数計_１週間\"}}},\"consultation_reception_period\":{\"type\":\"text\",\"value\":\"\",\"metadata\":{\"base_col_name\":{\"type\":\"text\",\"value\":\"相談受付期間\"}}},\"date\":{\"type\":\"timestamp\",\"value\":\"2021-01-04T00:00:00\",\"metadata\":{\"base_col_name\":{\"type\":\"text\",\"value\":\"日付\"}}},\"day_of_week\":{\"type\":\"text\",\"value\":\"月曜日\",\"metadata\":{\"base_col_name\":{\"type\":\"text\",\"value\":\"曜日\"}}},\"inspection_number_meter_1_week\":{\"type\":\"numeric\",\"value\":\"\",\"metadata\":{\"base_col_name\":{\"type\":\"text\",\"value\":\"検査件数計_１週間\"}}},\"number_of_consultations\":{\"type\":\"numeric\",\"value\":173,\"metadata\":{\"base_col_name\":{\"type\":\"text\",\"value\":\"相談件数\"}}},\"number_of_inspections\":{\"type\":\"numeric\",\"value\":508,\"metadata\":{\"base_col_name\":{\"type\":\"text\",\"value\":\"検査件数\"}}},\"of_which_medical_institution_in_the_prefecture\":{\"type\":\"numeric\",\"value\":484,\"metadata\":{\"base_col_name\":{\"type\":\"text\",\"value\":\"うち県内医療機関\"}}},\"of_which_medical_institution_in_the_prefecture_1_week\":{\"type\":\"numeric\",\"value\":\"\",\"metadata\":{\"base_col_name\":{\"type\":\"text\",\"value\":\"うち県内医療機関_１週間\"}}},\"of_which_prefectural_health_environment_research_institute\":{\"type\":\"numeric\",\"value\":24,\"metadata\":{\"base_col_name\":{\"type\":\"text\",\"value\":\"うち県衛生環境研究所\"}}},\"of_which_the_prefectural_hygiene_research_institute_1_week\":{\"type\":\"numeric\",\"value\":\"\",\"metadata\":{\"base_col_name\":{\"type\":\"text\",\"value\":\"うち県衛生研究所_１週間\"}}},\"prosenic_collection_date\":{\"type\":\"text\",\"value\":\"\",\"metadata\":{\"base_col_name\":{\"type\":\"text\",\"value\":\"検体採取日\"}}}},{\"id\":\"urn:ngsi-ld:covid19_test_weekly:6\",\"type\":\"covid19_test_weekly\",\"breakdown_of_consultation\":{\"type\":\"text\",\"value\":\"\",\"metadata\":{\"base_col_name\":{\"type\":\"text\",\"value\":\"相談件数内訳\"}}},\"consultation_number_meter_1_week\":{\"type\":\"numeric\",\"value\":\"\",\"metadata\":{\"base_col_name\":{\"type\":\"text\",\"value\":\"相談件数計_１週間\"}}},\"consultation_reception_period\":{\"type\":\"text\",\"value\":\"\",\"metadata\":{\"base_col_name\":{\"type\":\"text\",\"value\":\"相談受付期間\"}}},\"date\":{\"type\":\"timestamp\",\"value\":\"2021-01-05T00:00:00\",\"metadata\":{\"base_col_name\":{\"type\":\"text\",\"value\":\"日付\"}}},\"day_of_week\":{\"type\":\"text\",\"value\":\"火曜日\",\"metadata\":{\"base_col_name\":{\"type\":\"text\",\"value\":\"曜日\"}}},\"inspection_number_meter_1_week\":{\"type\":\"numeric\",\"value\":\"\",\"metadata\":{\"base_col_name\":{\"type\":\"text\",\"value\":\"検査件数計_１週間\"}}},\"number_of_consultations\":{\"type\":\"numeric\",\"value\":197,\"metadata\":{\"base_col_name\":{\"type\":\"text\",\"value\":\"相談件数\"}}},\"number_of_inspections\":{\"type\":\"numeric\",\"value\":421,\"metadata\":{\"base_col_name\":{\"type\":\"text\",\"value\":\"検査件数\"}}},\"of_which_medical_institution_in_the_prefecture\":{\"type\":\"numeric\",\"value\":395,\"metadata\":{\"base_col_name\":{\"type\":\"text\",\"value\":\"うち県内医療機関\"}}},\"of_which_medical_institution_in_the_prefecture_1_week\":{\"type\":\"numeric\",\"value\":\"\",\"metadata\":{\"base_col_name\":{\"type\":\"text\",\"value\":\"うち県内医療機関_１週間\"}}},\"of_which_prefectural_health_environment_research_institute\":{\"type\":\"numeric\",\"value\":26,\"metadata\":{\"base_col_name\":{\"type\":\"text\",\"value\":\"うち県衛生環境研究所\"}}},\"of_which_the_prefectural_hygiene_research_institute_1_week\":{\"type\":\"numeric\",\"value\":\"\",\"metadata\":{\"base_col_name\":{\"type\":\"text\",\"value\":\"うち県衛生研究所_１週間\"}}},\"prosenic_collection_date\":{\"type\":\"text\",\"value\":\"\",\"metadata\":{\"base_col_name\":{\"type\":\"text\",\"value\":\"検体採取日\"}}}},{\"id\":\"urn:ngsi-ld:covid19_test_weekly:7\",\"type\":\"covid19_test_weekly\",\"breakdown_of_consultation\":{\"type\":\"text\",\"value\":\"\",\"metadata\":{\"base_col_name\":{\"type\":\"text\",\"value\":\"相談件数内訳\"}}},\"consultation_number_meter_1_week\":{\"type\":\"numeric\",\"value\":\"\",\"metadata\":{\"base_col_name\":{\"type\":\"text\",\"value\":\"相談件数計_１週間\"}}},\"consultation_reception_period\":{\"type\":\"text\",\"value\":\"\",\"metadata\":{\"base_col_name\":{\"type\":\"text\",\"value\":\"相談受付期間\"}}},\"date\":{\"type\":\"timestamp\",\"value\":\"2021-01-06T00:00:00\",\"metadata\":{\"base_col_name\":{\"type\":\"text\",\"value\":\"日付\"}}},\"day_of_week\":{\"type\":\"text\",\"value\":\"水曜日\",\"metadata\":{\"base_col_name\":{\"type\":\"text\",\"value\":\"曜日\"}}},\"inspection_number_meter_1_week\":{\"type\":\"numeric\",\"value\":2103,\"metadata\":{\"base_col_name\":{\"type\":\"text\",\"value\":\"検査件数計_１週間\"}}},\"number_of_consultations\":{\"type\":\"numeric\",\"value\":193,\"metadata\":{\"base_col_name\":{\"type\":\"text\",\"value\":\"相談件数\"}}},\"number_of_inspections\":{\"type\":\"numeric\",\"value\":436,\"metadata\":{\"base_col_name\":{\"type\":\"text\",\"value\":\"検査件数\"}}},\"of_which_medical_institution_in_the_prefecture\":{\"type\":\"numeric\",\"value\":409,\"metadata\":{\"base_col_name\":{\"type\":\"text\",\"value\":\"うち県内医療機関\"}}},\"of_which_medical_institution_in_the_prefecture_1_week\":{\"type\":\"numeric\",\"value\":1944,\"metadata\":{\"base_col_name\":{\"type\":\"text\",\"value\":\"うち県内医療機関_１週間\"}}},\"of_which_prefectural_health_environment_research_institute\":{\"type\":\"numeric\",\"value\":27,\"metadata\":{\"base_col_name\":{\"type\":\"text\",\"value\":\"うち県衛生環境研究所\"}}},\"of_which_the_prefectural_hygiene_research_institute_1_week\":{\"type\":\"numeric\",\"value\":159,\"metadata\":{\"base_col_name\":{\"type\":\"text\",\"value\":\"うち県衛生研究所_１週間\"}}},\"prosenic_collection_date\":{\"type\":\"text\",\"value\":\"12月31日_木曜日～1月6日_水曜日\",\"metadata\":{\"base_col_name\":{\"type\":\"text\",\"value\":\"検体採取日\"}}}},{\"id\":\"urn:ngsi-ld:covid19_test_weekly:8\",\"type\":\"covid19_test_weekly\",\"breakdown_of_consultation\":{\"type\":\"text\",\"value\":\"\",\"metadata\":{\"base_col_name\":{\"type\":\"text\",\"value\":\"相談件数内訳\"}}},\"consultation_number_meter_1_week\":{\"type\":\"numeric\",\"value\":\"\",\"metadata\":{\"base_col_name\":{\"type\":\"text\",\"value\":\"相談件数計_１週間\"}}},\"consultation_reception_period\":{\"type\":\"text\",\"value\":\"\",\"metadata\":{\"base_col_name\":{\"type\":\"text\",\"value\":\"相談受付期間\"}}},\"date\":{\"type\":\"timestamp\",\"value\":\"2021-01-07T00:00:00\",\"metadata\":{\"base_col_name\":{\"type\":\"text\",\"value\":\"日付\"}}},\"day_of_week\":{\"type\":\"text\",\"value\":\"木曜日\",\"metadata\":{\"base_col_name\":{\"type\":\"text\",\"value\":\"曜日\"}}},\"inspection_number_meter_1_week\":{\"type\":\"numeric\",\"value\":\"\",\"metadata\":{\"base_col_name\":{\"type\":\"text\",\"value\":\"検査件数計_１週間\"}}},\"number_of_consultations\":{\"type\":\"numeric\",\"value\":214,\"metadata\":{\"base_col_name\":{\"type\":\"text\",\"value\":\"相談件数\"}}},\"number_of_inspections\":{\"type\":\"numeric\",\"value\":499,\"metadata\":{\"base_col_name\":{\"type\":\"text\",\"value\":\"検査件数\"}}},\"of_which_medical_institution_in_the_prefecture\":{\"type\":\"numeric\",\"value\":434,\"metadata\":{\"base_col_name\":{\"type\":\"text\",\"value\":\"うち県内医療機関\"}}},\"of_which_medical_institution_in_the_prefecture_1_week\":{\"type\":\"numeric\",\"value\":\"\",\"metadata\":{\"base_col_name\":{\"type\":\"text\",\"value\":\"うち県内医療機関_１週間\"}}},\"of_which_prefectural_health_environment_research_institute\":{\"type\":\"numeric\",\"value\":65,\"metadata\":{\"base_col_name\":{\"type\":\"text\",\"value\":\"うち県衛生環境研究所\"}}},\"of_which_the_prefectural_hygiene_research_institute_1_week\":{\"type\":\"numeric\",\"value\":\"\",\"metadata\":{\"base_col_name\":{\"type\":\"text\",\"value\":\"うち県衛生研究所_１週間\"}}},\"prosenic_collection_date\":{\"type\":\"text\",\"value\":\"\",\"metadata\":{\"base_col_name\":{\"type\":\"text\",\"value\":\"検体採取日\"}}}},{\"id\":\"urn:ngsi-ld:covid19_test_weekly:9\",\"type\":\"covid19_test_weekly\",\"breakdown_of_consultation\":{\"type\":\"text\",\"value\":\"\",\"metadata\":{\"base_col_name\":{\"type\":\"text\",\"value\":\"相談件数内訳\"}}},\"consultation_number_meter_1_week\":{\"type\":\"numeric\",\"value\":\"\",\"metadata\":{\"base_col_name\":{\"type\":\"text\",\"value\":\"相談件数計_１週間\"}}},\"consultation_reception_period\":{\"type\":\"text\",\"value\":\"\",\"metadata\":{\"base_col_name\":{\"type\":\"text\",\"value\":\"相談受付期間\"}}},\"date\":{\"type\":\"timestamp\",\"value\":\"2021-01-08T00:00:00\",\"metadata\":{\"base_col_name\":{\"type\":\"text\",\"value\":\"日付\"}}},\"day_of_week\":{\"type\":\"text\",\"value\":\"金曜日\",\"metadata\":{\"base_col_name\":{\"type\":\"text\",\"value\":\"曜日\"}}},\"inspection_number_meter_1_week\":{\"type\":\"numeric\",\"value\":\"\",\"metadata\":{\"base_col_name\":{\"type\":\"text\",\"value\":\"検査件数計_１週間\"}}},\"number_of_consultations\":{\"type\":\"numeric\",\"value\":192,\"metadata\":{\"base_col_name\":{\"type\":\"text\",\"value\":\"相談件数\"}}},\"number_of_inspections\":{\"type\":\"numeric\",\"value\":571,\"metadata\":{\"base_col_name\":{\"type\":\"text\",\"value\":\"検査件数\"}}},\"of_which_medical_institution_in_the_prefecture\":{\"type\":\"numeric\",\"value\":209,\"metadata\":{\"base_col_name\":{\"type\":\"text\",\"value\":\"うち県内医療機関\"}}},\"of_which_medical_institution_in_the_prefecture_1_week\":{\"type\":\"numeric\",\"value\":\"\",\"metadata\":{\"base_col_name\":{\"type\":\"text\",\"value\":\"うち県内医療機関_１週間\"}}},\"of_which_prefectural_health_environment_research_institute\":{\"type\":\"numeric\",\"value\":362,\"metadata\":{\"base_col_name\":{\"type\":\"text\",\"value\":\"うち県衛生環境研究所\"}}},\"of_which_the_prefectural_hygiene_research_institute_1_week\":{\"type\":\"numeric\",\"value\":\"\",\"metadata\":{\"base_col_name\":{\"type\":\"text\",\"value\":\"うち県衛生研究所_１週間\"}}},\"prosenic_collection_date\":{\"type\":\"text\",\"value\":\"\",\"metadata\":{\"base_col_name\":{\"type\":\"text\",\"value\":\"検体採取日\"}}}},{\"id\":\"urn:ngsi-ld:covid19_test_weekly:10\",\"type\":\"covid19_test_weekly\",\"breakdown_of_consultation\":{\"type\":\"text\",\"value\":\"3日160件、4日173件、5日197件、6日193件、7日214件、8日192件、9日173件\",\"metadata\":{\"base_col_name\":{\"type\":\"text\",\"value\":\"相談件数内訳\"}}},\"consultation_number_meter_1_week\":{\"type\":\"numeric\",\"value\":1302,\"metadata\":{\"base_col_name\":{\"type\":\"text\",\"value\":\"相談件数計_１週間\"}}},\"consultation_reception_period\":{\"type\":\"text\",\"value\":\"1月3日_日曜日～1月9日_土曜日\",\"metadata\":{\"base_col_name\":{\"type\":\"text\",\"value\":\"相談受付期間\"}}},\"date\":{\"type\":\"timestamp\",\"value\":\"2021-01-09T00:00:00\",\"metadata\":{\"base_col_name\":{\"type\":\"text\",\"value\":\"日付\"}}},\"day_of_week\":{\"type\":\"text\",\"value\":\"土曜日\",\"metadata\":{\"base_col_name\":{\"type\":\"text\",\"value\":\"曜日\"}}},\"inspection_number_meter_1_week\":{\"type\":\"numeric\",\"value\":\"\",\"metadata\":{\"base_col_name\":{\"type\":\"text\",\"value\":\"検査件数計_１週間\"}}},\"number_of_consultations\":{\"type\":\"numeric\",\"value\":173,\"metadata\":{\"base_col_name\":{\"type\":\"text\",\"value\":\"相談件数\"}}},\"number_of_inspections\":{\"type\":\"numeric\",\"value\":307,\"metadata\":{\"base_col_name\":{\"type\":\"text\",\"value\":\"検査件数\"}}},\"of_which_medical_institution_in_the_prefecture\":{\"type\":\"numeric\",\"value\":64,\"metadata\":{\"base_col_name\":{\"type\":\"text\",\"value\":\"うち県内医療機関\"}}},\"of_which_medical_institution_in_the_prefecture_1_week\":{\"type\":\"numeric\",\"value\":\"\",\"metadata\":{\"base_col_name\":{\"type\":\"text\",\"value\":\"うち県内医療機関_１週間\"}}},\"of_which_prefectural_health_environment_research_institute\":{\"type\":\"numeric\",\"value\":243,\"metadata\":{\"base_col_name\":{\"type\":\"text\",\"value\":\"うち県衛生環境研究所\"}}},\"of_which_the_prefectural_hygiene_research_institute_1_week\":{\"type\":\"numeric\",\"value\":\"\",\"metadata\":{\"base_col_name\":{\"type\":\"text\",\"value\":\"うち県衛生研究所_１週間\"}}},\"prosenic_collection_date\":{\"type\":\"text\",\"value\":\"\",\"metadata\":{\"base_col_name\":{\"type\":\"text\",\"value\":\"検体採取日\"}}}},{\"id\":\"urn:ngsi-ld:covid19_test_weekly:11\",\"type\":\"covid19_test_weekly\",\"breakdown_of_consultation\":{\"type\":\"text\",\"value\":\"\",\"metadata\":{\"base_col_name\":{\"type\":\"text\",\"value\":\"相談件数内訳\"}}},\"consultation_number_meter_1_week\":{\"type\":\"numeric\",\"value\":\"\",\"metadata\":{\"base_col_name\":{\"type\":\"text\",\"value\":\"相談件数計_１週間\"}}},\"consultation_reception_period\":{\"type\":\"text\",\"value\":\"\",\"metadata\":{\"base_col_name\":{\"type\":\"text\",\"value\":\"相談受付期間\"}}},\"date\":{\"type\":\"timestamp\",\"value\":\"2021-01-10T00:00:00\",\"metadata\":{\"base_col_name\":{\"type\":\"text\",\"value\":\"日付\"}}},\"day_of_week\":{\"type\":\"text\",\"value\":\"日曜日\",\"metadata\":{\"base_col_name\":{\"type\":\"text\",\"value\":\"曜日\"}}},\"inspection_number_meter_1_week\":{\"type\":\"numeric\",\"value\":\"\",\"metadata\":{\"base_col_name\":{\"type\":\"text\",\"value\":\"検査件数計_１週間\"}}},\"number_of_consultations\":{\"type\":\"numeric\",\"value\":169,\"metadata\":{\"base_col_name\":{\"type\":\"text\",\"value\":\"相談件数\"}}},\"number_of_inspections\":{\"type\":\"numeric\",\"value\":277,\"metadata\":{\"base_col_name\":{\"type\":\"text\",\"value\":\"検査件数\"}}},\"of_which_medical_institution_in_the_prefecture\":{\"type\":\"numeric\",\"value\":75,\"metadata\":{\"base_col_name\":{\"type\":\"text\",\"value\":\"うち県内医療機関\"}}},\"of_which_medical_institution_in_the_prefecture_1_week\":{\"type\":\"numeric\",\"value\":\"\",\"metadata\":{\"base_col_name\":{\"type\":\"text\",\"value\":\"うち県内医療機関_１週間\"}}},\"of_which_prefectural_health_environment_research_institute\":{\"type\":\"numeric\",\"value\":202,\"metadata\":{\"base_col_name\":{\"type\":\"text\",\"value\":\"うち県衛生環境研究所\"}}},\"of_which_the_prefectural_hygiene_research_institute_1_week\":{\"type\":\"numeric\",\"value\":\"\",\"metadata\":{\"base_col_name\":{\"type\":\"text\",\"value\":\"うち県衛生研究所_１週間\"}}},\"prosenic_collection_date\":{\"type\":\"text\",\"value\":\"\",\"metadata\":{\"base_col_name\":{\"type\":\"text\",\"value\":\"検体採取日\"}}}},{\"id\":\"urn:ngsi-ld:covid19_test_weekly:12\",\"type\":\"covid19_test_weekly\",\"breakdown_of_consultation\":{\"type\":\"text\",\"value\":\"\",\"metadata\":{\"base_col_name\":{\"type\":\"text\",\"value\":\"相談件数内訳\"}}},\"consultation_number_meter_1_week\":{\"type\":\"numeric\",\"value\":\"\",\"metadata\":{\"base_col_name\":{\"type\":\"text\",\"value\":\"相談件数計_１週間\"}}},\"consultation_reception_period\":{\"type\":\"text\",\"value\":\"\",\"metadata\":{\"base_col_name\":{\"type\":\"text\",\"value\":\"相談受付期間\"}}},\"date\":{\"type\":\"timestamp\",\"value\":\"2021-01-11T00:00:00\",\"metadata\":{\"base_col_name\":{\"type\":\"text\",\"value\":\"日付\"}}},\"day_of_week\":{\"type\":\"text\",\"value\":\"月曜日\",\"metadata\":{\"base_col_name\":{\"type\":\"text\",\"value\":\"曜日\"}}},\"inspection_number_meter_1_week\":{\"type\":\"numeric\",\"value\":\"\",\"metadata\":{\"base_col_name\":{\"type\":\"text\",\"value\":\"検査件数計_１週間\"}}},\"number_of_consultations\":{\"type\":\"numeric\",\"value\":176,\"metadata\":{\"base_col_name\":{\"type\":\"text\",\"value\":\"相談件数\"}}},\"number_of_inspections\":{\"type\":\"numeric\",\"value\":548,\"metadata\":{\"base_col_name\":{\"type\":\"text\",\"value\":\"検査件数\"}}},\"of_which_medical_institution_in_the_prefecture\":{\"type\":\"numeric\",\"value\":369,\"metadata\":{\"base_col_name\":{\"type\":\"text\",\"value\":\"うち県内医療機関\"}}},\"of_which_medical_institution_in_the_prefecture_1_week\":{\"type\":\"numeric\",\"value\":\"\",\"metadata\":{\"base_col_name\":{\"type\":\"text\",\"value\":\"うち県内医療機関_１週間\"}}},\"of_which_prefectural_health_environment_research_institute\":{\"type\":\"numeric\",\"value\":179,\"metadata\":{\"base_col_name\":{\"type\":\"text\",\"value\":\"うち県衛生環境研究所\"}}},\"of_which_the_prefectural_hygiene_research_institute_1_week\":{\"type\":\"numeric\",\"value\":\"\",\"metadata\":{\"base_col_name\":{\"type\":\"text\",\"value\":\"うち県衛生研究所_１週間\"}}},\"prosenic_collection_date\":{\"type\":\"text\",\"value\":\"\",\"metadata\":{\"base_col_name\":{\"type\":\"text\",\"value\":\"検体採取日\"}}}},{\"id\":\"urn:ngsi-ld:covid19_test_weekly:13\",\"type\":\"covid19_test_weekly\",\"breakdown_of_consultation\":{\"type\":\"text\",\"value\":\"\",\"metadata\":{\"base_col_name\":{\"type\":\"text\",\"value\":\"相談件数内訳\"}}},\"consultation_number_meter_1_week\":{\"type\":\"numeric\",\"value\":\"\",\"metadata\":{\"base_col_name\":{\"type\":\"text\",\"value\":\"相談件数計_１週間\"}}},\"consultation_reception_period\":{\"type\":\"text\",\"value\":\"\",\"metadata\":{\"base_col_name\":{\"type\":\"text\",\"value\":\"相談受付期間\"}}},\"date\":{\"type\":\"timestamp\",\"value\":\"2021-01-12T00:00:00\",\"metadata\":{\"base_col_name\":{\"type\":\"text\",\"value\":\"日付\"}}},\"day_of_week\":{\"type\":\"text\",\"value\":\"火曜日\",\"metadata\":{\"base_col_name\":{\"type\":\"text\",\"value\":\"曜日\"}}},\"inspection_number_meter_1_week\":{\"type\":\"numeric\",\"value\":\"\",\"metadata\":{\"base_col_name\":{\"type\":\"text\",\"value\":\"検査件数計_１週間\"}}},\"number_of_consultations\":{\"type\":\"numeric\",\"value\":213,\"metadata\":{\"base_col_name\":{\"type\":\"text\",\"value\":\"相談件数\"}}},\"number_of_inspections\":{\"type\":\"numeric\",\"value\":562,\"metadata\":{\"base_col_name\":{\"type\":\"text\",\"value\":\"検査件数\"}}},\"of_which_medical_institution_in_the_prefecture\":{\"type\":\"numeric\",\"value\":510,\"metadata\":{\"base_col_name\":{\"type\":\"text\",\"value\":\"うち県内医療機関\"}}},\"of_which_medical_institution_in_the_prefecture_1_week\":{\"type\":\"numeric\",\"value\":\"\",\"metadata\":{\"base_col_name\":{\"type\":\"text\",\"value\":\"うち県内医療機関_１週間\"}}},\"of_which_prefectural_health_environment_research_institute\":{\"type\":\"numeric\",\"value\":52,\"metadata\":{\"base_col_name\":{\"type\":\"text\",\"value\":\"うち県衛生環境研究所\"}}},\"of_which_the_prefectural_hygiene_research_institute_1_week\":{\"type\":\"numeric\",\"value\":\"\",\"metadata\":{\"base_col_name\":{\"type\":\"text\",\"value\":\"うち県衛生研究所_１週間\"}}},\"prosenic_collection_date\":{\"type\":\"text\",\"value\":\"\",\"metadata\":{\"base_col_name\":{\"type\":\"text\",\"value\":\"検体採取日\"}}}},{\"id\":\"urn:ngsi-ld:covid19_test_weekly:14\",\"type\":\"covid19_test_weekly\",\"breakdown_of_consultation\":{\"type\":\"text\",\"value\":\"\",\"metadata\":{\"base_col_name\":{\"type\":\"text\",\"value\":\"相談件数内訳\"}}},\"consultation_number_meter_1_week\":{\"type\":\"numeric\",\"value\":\"\",\"metadata\":{\"base_col_name\":{\"type\":\"text\",\"value\":\"相談件数計_１週間\"}}},\"consultation_reception_period\":{\"type\":\"text\",\"value\":\"\",\"metadata\":{\"base_col_name\":{\"type\":\"text\",\"value\":\"相談受付期間\"}}},\"date\":{\"type\":\"timestamp\",\"value\":\"2021-01-13T00:00:00\",\"metadata\":{\"base_col_name\":{\"type\":\"text\",\"value\":\"日付\"}}},\"day_of_week\":{\"type\":\"text\",\"value\":\"水曜日\",\"metadata\":{\"base_col_name\":{\"type\":\"text\",\"value\":\"曜日\"}}},\"inspection_number_meter_1_week\":{\"type\":\"numeric\",\"value\":3208,\"metadata\":{\"base_col_name\":{\"type\":\"text\",\"value\":\"検査件数計_１週間\"}}},\"number_of_consultations\":{\"type\":\"numeric\",\"value\":160,\"metadata\":{\"base_col_name\":{\"type\":\"text\",\"value\":\"相談件数\"}}},\"number_of_inspections\":{\"type\":\"numeric\",\"value\":444,\"metadata\":{\"base_col_name\":{\"type\":\"text\",\"value\":\"検査件数\"}}},\"of_which_medical_institution_in_the_prefecture\":{\"type\":\"numeric\",\"value\":401,\"metadata\":{\"base_col_name\":{\"type\":\"text\",\"value\":\"うち県内医療機関\"}}},\"of_which_medical_institution_in_the_prefecture_1_week\":{\"type\":\"numeric\",\"value\":2062,\"metadata\":{\"base_col_name\":{\"type\":\"text\",\"value\":\"うち県内医療機関_１週間\"}}},\"of_which_prefectural_health_environment_research_institute\":{\"type\":\"numeric\",\"value\":43,\"metadata\":{\"base_col_name\":{\"type\":\"text\",\"value\":\"うち県衛生環境研究所\"}}},\"of_which_the_prefectural_hygiene_research_institute_1_week\":{\"type\":\"numeric\",\"value\":1146,\"metadata\":{\"base_col_name\":{\"type\":\"text\",\"value\":\"うち県衛生研究所_１週間\"}}},\"prosenic_collection_date\":{\"type\":\"text\",\"value\":\"1月7日_木曜日～1月13日_水曜日\",\"metadata\":{\"base_col_name\":{\"type\":\"text\",\"value\":\"検体採取日\"}}}},{\"id\":\"urn:ngsi-ld:covid19_test_weekly:15\",\"type\":\"covid19_test_weekly\",\"breakdown_of_consultation\":{\"type\":\"text\",\"value\":\"\",\"metadata\":{\"base_col_name\":{\"type\":\"text\",\"value\":\"相談件数内訳\"}}},\"consultation_number_meter_1_week\":{\"type\":\"numeric\",\"value\":\"\",\"metadata\":{\"base_col_name\":{\"type\":\"text\",\"value\":\"相談件数計_１週間\"}}},\"consultation_reception_period\":{\"type\":\"text\",\"value\":\"\",\"metadata\":{\"base_col_name\":{\"type\":\"text\",\"value\":\"相談受付期間\"}}},\"date\":{\"type\":\"timestamp\",\"value\":\"2021-01-14T00:00:00\",\"metadata\":{\"base_col_name\":{\"type\":\"text\",\"value\":\"日付\"}}},\"day_of_week\":{\"type\":\"text\",\"value\":\"木曜日\",\"metadata\":{\"base_col_name\":{\"type\":\"text\",\"value\":\"曜日\"}}},\"inspection_number_meter_1_week\":{\"type\":\"numeric\",\"value\":\"\",\"metadata\":{\"base_col_name\":{\"type\":\"text\",\"value\":\"検査件数計_１週間\"}}},\"number_of_consultations\":{\"type\":\"numeric\",\"value\":179,\"metadata\":{\"base_col_name\":{\"type\":\"text\",\"value\":\"相談件数\"}}},\"number_of_inspections\":{\"type\":\"numeric\",\"value\":519,\"metadata\":{\"base_col_name\":{\"type\":\"text\",\"value\":\"検査件数\"}}},\"of_which_medical_institution_in_the_prefecture\":{\"type\":\"numeric\",\"value\":315,\"metadata\":{\"base_col_name\":{\"type\":\"text\",\"value\":\"うち県内医療機関\"}}},\"of_which_medical_institution_in_the_prefecture_1_week\":{\"type\":\"numeric\",\"value\":\"\",\"metadata\":{\"base_col_name\":{\"type\":\"text\",\"value\":\"うち県内医療機関_１週間\"}}},\"of_which_prefectural_health_environment_research_institute\":{\"type\":\"numeric\",\"value\":204,\"metadata\":{\"base_col_name\":{\"type\":\"text\",\"value\":\"うち県衛生環境研究所\"}}},\"of_which_the_prefectural_hygiene_research_institute_1_week\":{\"type\":\"numeric\",\"value\":\"\",\"metadata\":{\"base_col_name\":{\"type\":\"text\",\"value\":\"うち県衛生研究所_１週間\"}}},\"prosenic_collection_date\":{\"type\":\"text\",\"value\":\"\",\"metadata\":{\"base_col_name\":{\"type\":\"text\",\"value\":\"検体採取日\"}}}},{\"id\":\"urn:ngsi-ld:covid19_test_weekly:16\",\"type\":\"covid19_test_weekly\",\"breakdown_of_consultation\":{\"type\":\"text\",\"value\":\"\",\"metadata\":{\"base_col_name\":{\"type\":\"text\",\"value\":\"相談件数内訳\"}}},\"consultation_number_meter_1_week\":{\"type\":\"numeric\",\"value\":\"\",\"metadata\":{\"base_col_name\":{\"type\":\"text\",\"value\":\"相談件数計_１週間\"}}},\"consultation_reception_period\":{\"type\":\"text\",\"value\":\"\",\"metadata\":{\"base_col_name\":{\"type\":\"text\",\"value\":\"相談受付期間\"}}},\"date\":{\"type\":\"timestamp\",\"value\":\"2021-01-15T00:00:00\",\"metadata\":{\"base_col_name\":{\"type\":\"text\",\"value\":\"日付\"}}},\"day_of_week\":{\"type\":\"text\",\"value\":\"金曜日\",\"metadata\":{\"base_col_name\":{\"type\":\"text\",\"value\":\"曜日\"}}},\"inspection_number_meter_1_week\":{\"type\":\"numeric\",\"value\":\"\",\"metadata\":{\"base_col_name\":{\"type\":\"text\",\"value\":\"検査件数計_１週間\"}}},\"number_of_consultations\":{\"type\":\"numeric\",\"value\":183,\"metadata\":{\"base_col_name\":{\"type\":\"text\",\"value\":\"相談件数\"}}},\"number_of_inspections\":{\"type\":\"numeric\",\"value\":281,\"metadata\":{\"base_col_name\":{\"type\":\"text\",\"value\":\"検査件数\"}}},\"of_which_medical_institution_in_the_prefecture\":{\"type\":\"numeric\",\"value\":162,\"metadata\":{\"base_col_name\":{\"type\":\"text\",\"value\":\"うち県内医療機関\"}}},\"of_which_medical_institution_in_the_prefecture_1_week\":{\"type\":\"numeric\",\"value\":\"\",\"metadata\":{\"base_col_name\":{\"type\":\"text\",\"value\":\"うち県内医療機関_１週間\"}}},\"of_which_prefectural_health_environment_research_institute\":{\"type\":\"numeric\",\"value\":119,\"metadata\":{\"base_col_name\":{\"type\":\"text\",\"value\":\"うち県衛生環境研究所\"}}},\"of_which_the_prefectural_hygiene_research_institute_1_week\":{\"type\":\"numeric\",\"value\":\"\",\"metadata\":{\"base_col_name\":{\"type\":\"text\",\"value\":\"うち県衛生研究所_１週間\"}}},\"prosenic_collection_date\":{\"type\":\"text\",\"value\":\"\",\"metadata\":{\"base_col_name\":{\"type\":\"text\",\"value\":\"検体採取日\"}}}},{\"id\":\"urn:ngsi-ld:covid19_test_weekly:17\",\"type\":\"covid19_test_weekly\",\"breakdown_of_consultation\":{\"type\":\"text\",\"value\":\"10日169件、11日176件、12日213件、13日160件、14日179件、15日183件、16日128件\",\"metadata\":{\"base_col_name\":{\"type\":\"text\",\"value\":\"相談件数内訳\"}}},\"consultation_number_meter_1_week\":{\"type\":\"numeric\",\"value\":1208,\"metadata\":{\"base_col_name\":{\"type\":\"text\",\"value\":\"相談件数計_１週間\"}}},\"consultation_reception_period\":{\"type\":\"text\",\"value\":\"1月10日_日曜日～1月16日_土曜日\",\"metadata\":{\"base_col_name\":{\"type\":\"text\",\"value\":\"相談受付期間\"}}},\"date\":{\"type\":\"timestamp\",\"value\":\"2021-01-16T00:00:00\",\"metadata\":{\"base_col_name\":{\"type\":\"text\",\"value\":\"日付\"}}},\"day_of_week\":{\"type\":\"text\",\"value\":\"土曜日\",\"metadata\":{\"base_col_name\":{\"type\":\"text\",\"value\":\"曜日\"}}},\"inspection_number_meter_1_week\":{\"type\":\"numeric\",\"value\":\"\",\"metadata\":{\"base_col_name\":{\"type\":\"text\",\"value\":\"検査件数計_１週間\"}}},\"number_of_consultations\":{\"type\":\"numeric\",\"value\":128,\"metadata\":{\"base_col_name\":{\"type\":\"text\",\"value\":\"相談件数\"}}},\"number_of_inspections\":{\"type\":\"numeric\",\"value\":136,\"metadata\":{\"base_col_name\":{\"type\":\"text\",\"value\":\"検査件数\"}}},\"of_which_medical_institution_in_the_prefecture\":{\"type\":\"numeric\",\"value\":100,\"metadata\":{\"base_col_name\":{\"type\":\"text\",\"value\":\"うち県内医療機関\"}}},\"of_which_medical_institution_in_the_prefecture_1_week\":{\"type\":\"numeric\",\"value\":\"\",\"metadata\":{\"base_col_name\":{\"type\":\"text\",\"value\":\"うち県内医療機関_１週間\"}}},\"of_which_prefectural_health_environment_research_institute\":{\"type\":\"numeric\",\"value\":36,\"metadata\":{\"base_col_name\":{\"type\":\"text\",\"value\":\"うち県衛生環境研究所\"}}},\"of_which_the_prefectural_hygiene_research_institute_1_week\":{\"type\":\"numeric\",\"value\":\"\",\"metadata\":{\"base_col_name\":{\"type\":\"text\",\"value\":\"うち県衛生研究所_１週間\"}}},\"prosenic_collection_date\":{\"type\":\"text\",\"value\":\"\",\"metadata\":{\"base_col_name\":{\"type\":\"text\",\"value\":\"検体採取日\"}}}},{\"id\":\"urn:ngsi-ld:covid19_test_weekly:18\",\"type\":\"covid19_test_weekly\",\"breakdown_of_consultation\":{\"type\":\"text\",\"value\":\"\",\"metadata\":{\"base_col_name\":{\"type\":\"text\",\"value\":\"相談件数内訳\"}}},\"consultation_number_meter_1_week\":{\"type\":\"numeric\",\"value\":\"\",\"metadata\":{\"base_col_name\":{\"type\":\"text\",\"value\":\"相談件数計_１週間\"}}},\"consultation_reception_period\":{\"type\":\"text\",\"value\":\"\",\"metadata\":{\"base_col_name\":{\"type\":\"text\",\"value\":\"相談受付期間\"}}},\"date\":{\"type\":\"timestamp\",\"value\":\"2021-01-17T00:00:00\",\"metadata\":{\"base_col_name\":{\"type\":\"text\",\"value\":\"日付\"}}},\"day_of_week\":{\"type\":\"text\",\"value\":\"日曜日\",\"metadata\":{\"base_col_name\":{\"type\":\"text\",\"value\":\"曜日\"}}},\"inspection_number_meter_1_week\":{\"type\":\"numeric\",\"value\":\"\",\"metadata\":{\"base_col_name\":{\"type\":\"text\",\"value\":\"検査件数計_１週間\"}}},\"number_of_consultations\":{\"type\":\"numeric\",\"value\":116,\"metadata\":{\"base_col_name\":{\"type\":\"text\",\"value\":\"相談件数\"}}},\"number_of_inspections\":{\"type\":\"numeric\",\"value\":285,\"metadata\":{\"base_col_name\":{\"type\":\"text\",\"value\":\"検査件数\"}}},\"of_which_medical_institution_in_the_prefecture\":{\"type\":\"numeric\",\"value\":176,\"metadata\":{\"base_col_name\":{\"type\":\"text\",\"value\":\"うち県内医療機関\"}}},\"of_which_medical_institution_in_the_prefecture_1_week\":{\"type\":\"numeric\",\"value\":\"\",\"metadata\":{\"base_col_name\":{\"type\":\"text\",\"value\":\"うち県内医療機関_１週間\"}}},\"of_which_prefectural_health_environment_research_institute\":{\"type\":\"numeric\",\"value\":109,\"metadata\":{\"base_col_name\":{\"type\":\"text\",\"value\":\"うち県衛生環境研究所\"}}},\"of_which_the_prefectural_hygiene_research_institute_1_week\":{\"type\":\"numeric\",\"value\":\"\",\"metadata\":{\"base_col_name\":{\"type\":\"text\",\"value\":\"うち県衛生研究所_１週間\"}}},\"prosenic_collection_date\":{\"type\":\"text\",\"value\":\"\",\"metadata\":{\"base_col_name\":{\"type\":\"text\",\"value\":\"検体採取日\"}}}},{\"id\":\"urn:ngsi-ld:covid19_test_weekly:19\",\"type\":\"covid19_test_weekly\",\"breakdown_of_consultation\":{\"type\":\"text\",\"value\":\"\",\"metadata\":{\"base_col_name\":{\"type\":\"text\",\"value\":\"相談件数内訳\"}}},\"consultation_number_meter_1_week\":{\"type\":\"numeric\",\"value\":\"\",\"metadata\":{\"base_col_name\":{\"type\":\"text\",\"value\":\"相談件数計_１週間\"}}},\"consultation_reception_period\":{\"type\":\"text\",\"value\":\"\",\"metadata\":{\"base_col_name\":{\"type\":\"text\",\"value\":\"相談受付期間\"}}},\"date\":{\"type\":\"timestamp\",\"value\":\"2021-01-18T00:00:00\",\"metadata\":{\"base_col_name\":{\"type\":\"text\",\"value\":\"日付\"}}},\"day_of_week\":{\"type\":\"text\",\"value\":\"月曜日\",\"metadata\":{\"base_col_name\":{\"type\":\"text\",\"value\":\"曜日\"}}},\"inspection_number_meter_1_week\":{\"type\":\"numeric\",\"value\":\"\",\"metadata\":{\"base_col_name\":{\"type\":\"text\",\"value\":\"検査件数計_１週間\"}}},\"number_of_consultations\":{\"type\":\"numeric\",\"value\":193,\"metadata\":{\"base_col_name\":{\"type\":\"text\",\"value\":\"相談件数\"}}},\"number_of_inspections\":{\"type\":\"numeric\",\"value\":433,\"metadata\":{\"base_col_name\":{\"type\":\"text\",\"value\":\"検査件数\"}}},\"of_which_medical_institution_in_the_prefecture\":{\"type\":\"numeric\",\"value\":393,\"metadata\":{\"base_col_name\":{\"type\":\"text\",\"value\":\"うち県内医療機関\"}}},\"of_which_medical_institution_in_the_prefecture_1_week\":{\"type\":\"numeric\",\"value\":\"\",\"metadata\":{\"base_col_name\":{\"type\":\"text\",\"value\":\"うち県内医療機関_１週間\"}}},\"of_which_prefectural_health_environment_research_institute\":{\"type\":\"numeric\",\"value\":40,\"metadata\":{\"base_col_name\":{\"type\":\"text\",\"value\":\"うち県衛生環境研究所\"}}},\"of_which_the_prefectural_hygiene_research_institute_1_week\":{\"type\":\"numeric\",\"value\":\"\",\"metadata\":{\"base_col_name\":{\"type\":\"text\",\"value\":\"うち県衛生研究所_１週間\"}}},\"prosenic_collection_date\":{\"type\":\"text\",\"value\":\"\",\"metadata\":{\"base_col_name\":{\"type\":\"text\",\"value\":\"検体採取日\"}}}},{\"id\":\"urn:ngsi-ld:covid19_test_weekly:20\",\"type\":\"covid19_test_weekly\",\"breakdown_of_consultation\":{\"type\":\"text\",\"value\":\"\",\"metadata\":{\"base_col_name\":{\"type\":\"text\",\"value\":\"相談件数内訳\"}}},\"consultation_number_meter_1_week\":{\"type\":\"numeric\",\"value\":\"\",\"metadata\":{\"base_col_name\":{\"type\":\"text\",\"value\":\"相談件数計_１週間\"}}},\"consultation_reception_period\":{\"type\":\"text\",\"value\":\"\",\"metadata\":{\"base_col_name\":{\"type\":\"text\",\"value\":\"相談受付期間\"}}},\"date\":{\"type\":\"timestamp\",\"value\":\"2021-01-19T00:00:00\",\"metadata\":{\"base_col_name\":{\"type\":\"text\",\"value\":\"日付\"}}},\"day_of_week\":{\"type\":\"text\",\"value\":\"火曜日\",\"metadata\":{\"base_col_name\":{\"type\":\"text\",\"value\":\"曜日\"}}},\"inspection_number_meter_1_week\":{\"type\":\"numeric\",\"value\":\"\",\"metadata\":{\"base_col_name\":{\"type\":\"text\",\"value\":\"検査件数計_１週間\"}}},\"number_of_consultations\":{\"type\":\"numeric\",\"value\":155,\"metadata\":{\"base_col_name\":{\"type\":\"text\",\"value\":\"相談件数\"}}},\"number_of_inspections\":{\"type\":\"numeric\",\"value\":288,\"metadata\":{\"base_col_name\":{\"type\":\"text\",\"value\":\"検査件数\"}}},\"of_which_medical_institution_in_the_prefecture\":{\"type\":\"numeric\",\"value\":263,\"metadata\":{\"base_col_name\":{\"type\":\"text\",\"value\":\"うち県内医療機関\"}}},\"of_which_medical_institution_in_the_prefecture_1_week\":{\"type\":\"numeric\",\"value\":\"\",\"metadata\":{\"base_col_name\":{\"type\":\"text\",\"value\":\"うち県内医療機関_１週間\"}}},\"of_which_prefectural_health_environment_research_institute\":{\"type\":\"numeric\",\"value\":25,\"metadata\":{\"base_col_name\":{\"type\":\"text\",\"value\":\"うち県衛生環境研究所\"}}},\"of_which_the_prefectural_hygiene_research_institute_1_week\":{\"type\":\"numeric\",\"value\":\"\",\"metadata\":{\"base_col_name\":{\"type\":\"text\",\"value\":\"うち県衛生研究所_１週間\"}}},\"prosenic_collection_date\":{\"type\":\"text\",\"value\":\"\",\"metadata\":{\"base_col_name\":{\"type\":\"text\",\"value\":\"検体採取日\"}}}}]'"
            ],
            "application/vnd.google.colaboratory.intrinsic+json": {
              "type": "string"
            }
          },
          "metadata": {}
        }
      ]
    },
    {
      "cell_type": "code",
      "source": [
        "import requests\n",
        "\n",
        "url = \"https://api.dataplatform-yamanashi.jp/ngsi/v2/entities?limit=10&idPattern=.*EDAA02000.*\"\n",
        "\n",
        "payload={}\n",
        "headers = {\n",
        "  'Authorization': f\"Bearer {get_token(client_id, client_secret)}\"\n",
        "}\n",
        "\n",
        "response = requests.request(\"GET\", url, headers=headers, data=payload)\n",
        "\n",
        "display(response.text)"
      ],
      "metadata": {
        "colab": {
          "base_uri": "https://localhost:8080/",
          "height": 157
        },
        "id": "_Y2fEB5LZkj4",
        "outputId": "6e78c51b-4a4d-41da-f624-6abdcb79fa0d"
      },
      "execution_count": 6,
      "outputs": [
        {
          "output_type": "display_data",
          "data": {
            "text/plain": [
              "'[{\"id\":\"urn:ngsi-ld:EDAA02000-2010-10-01:1\",\"type\":\"EDAA02000-2010-10-01\",\"acquisition_date\":{\"type\":\"DateTime\",\"value\":\"2010-10-01T00:00:00.000Z\",\"metadata\":{}},\"area_name\":{\"type\":\"text\",\"value\":\"県合計\",\"metadata\":{\"base_col_name\":{\"type\":\"text\",\"value\":\"地域名\"}}},\"female\":{\"type\":\"numeric\",\"value\":440549,\"metadata\":{\"base_col_name\":{\"type\":\"text\",\"value\":\"女\"}}},\"male\":{\"type\":\"numeric\",\"value\":422526,\"metadata\":{\"base_col_name\":{\"type\":\"text\",\"value\":\"男\"}}},\"number_of_households\":{\"type\":\"numeric\",\"value\":327721,\"metadata\":{\"base_col_name\":{\"type\":\"text\",\"value\":\"世帯数\"}}},\"total_number\":{\"type\":\"numeric\",\"value\":863075,\"metadata\":{\"base_col_name\":{\"type\":\"text\",\"value\":\"総数\"}}}},{\"id\":\"urn:ngsi-ld:EDAA02000-2010-10-01:2\",\"type\":\"EDAA02000-2010-10-01\",\"acquisition_date\":{\"type\":\"DateTime\",\"value\":\"2010-10-01T00:00:00.000Z\",\"metadata\":{}},\"area_name\":{\"type\":\"text\",\"value\":\"市部計\",\"metadata\":{\"base_col_name\":{\"type\":\"text\",\"value\":\"地域名\"}}},\"female\":{\"type\":\"numeric\",\"value\":376474,\"metadata\":{\"base_col_name\":{\"type\":\"text\",\"value\":\"女\"}}},\"male\":{\"type\":\"numeric\",\"value\":360456,\"metadata\":{\"base_col_name\":{\"type\":\"text\",\"value\":\"男\"}}},\"number_of_households\":{\"type\":\"numeric\",\"value\":281653,\"metadata\":{\"base_col_name\":{\"type\":\"text\",\"value\":\"世帯数\"}}},\"total_number\":{\"type\":\"numeric\",\"value\":736930,\"metadata\":{\"base_col_name\":{\"type\":\"text\",\"value\":\"総数\"}}}},{\"id\":\"urn:ngsi-ld:EDAA02000-2010-10-01:3\",\"type\":\"EDAA02000-2010-10-01\",\"acquisition_date\":{\"type\":\"DateTime\",\"value\":\"2010-10-01T00:00:00.000Z\",\"metadata\":{}},\"area_name\":{\"type\":\"text\",\"value\":\"郡部計\",\"metadata\":{\"base_col_name\":{\"type\":\"text\",\"value\":\"地域名\"}}},\"female\":{\"type\":\"numeric\",\"value\":64075,\"metadata\":{\"base_col_name\":{\"type\":\"text\",\"value\":\"女\"}}},\"male\":{\"type\":\"numeric\",\"value\":62070,\"metadata\":{\"base_col_name\":{\"type\":\"text\",\"value\":\"男\"}}},\"number_of_households\":{\"type\":\"numeric\",\"value\":46068,\"metadata\":{\"base_col_name\":{\"type\":\"text\",\"value\":\"世帯数\"}}},\"total_number\":{\"type\":\"numeric\",\"value\":126145,\"metadata\":{\"base_col_name\":{\"type\":\"text\",\"value\":\"総数\"}}}},{\"id\":\"urn:ngsi-ld:EDAA02000-2010-10-01:4\",\"type\":\"EDAA02000-2010-10-01\",\"acquisition_date\":{\"type\":\"DateTime\",\"value\":\"2010-10-01T00:00:00.000Z\",\"metadata\":{}},\"area_name\":{\"type\":\"text\",\"value\":\"甲府市\",\"metadata\":{\"base_col_name\":{\"type\":\"text\",\"value\":\"地域名\"}}},\"female\":{\"type\":\"numeric\",\"value\":101238,\"metadata\":{\"base_col_name\":{\"type\":\"text\",\"value\":\"女\"}}},\"male\":{\"type\":\"numeric\",\"value\":97754,\"metadata\":{\"base_col_name\":{\"type\":\"text\",\"value\":\"男\"}}},\"number_of_households\":{\"type\":\"numeric\",\"value\":85101,\"metadata\":{\"base_col_name\":{\"type\":\"text\",\"value\":\"世帯数\"}}},\"total_number\":{\"type\":\"numeric\",\"value\":198992,\"metadata\":{\"base_col_name\":{\"type\":\"text\",\"value\":\"総数\"}}}},{\"id\":\"urn:ngsi-ld:EDAA02000-2010-10-01:5\",\"type\":\"EDAA02000-2010-10-01\",\"acquisition_date\":{\"type\":\"DateTime\",\"value\":\"2010-10-01T00:00:00.000Z\",\"metadata\":{}},\"area_name\":{\"type\":\"text\",\"value\":\"富士吉田市\",\"metadata\":{\"base_col_name\":{\"type\":\"text\",\"value\":\"地域名\"}}},\"female\":{\"type\":\"numeric\",\"value\":25891,\"metadata\":{\"base_col_name\":{\"type\":\"text\",\"value\":\"女\"}}},\"male\":{\"type\":\"numeric\",\"value\":24728,\"metadata\":{\"base_col_name\":{\"type\":\"text\",\"value\":\"男\"}}},\"number_of_households\":{\"type\":\"numeric\",\"value\":17713,\"metadata\":{\"base_col_name\":{\"type\":\"text\",\"value\":\"世帯数\"}}},\"total_number\":{\"type\":\"numeric\",\"value\":50619,\"metadata\":{\"base_col_name\":{\"type\":\"text\",\"value\":\"総数\"}}}},{\"id\":\"urn:ngsi-ld:EDAA02000-2010-10-01:6\",\"type\":\"EDAA02000-2010-10-01\",\"acquisition_date\":{\"type\":\"DateTime\",\"value\":\"2010-10-01T00:00:00.000Z\",\"metadata\":{}},\"area_name\":{\"type\":\"text\",\"value\":\"都留市\",\"metadata\":{\"base_col_name\":{\"type\":\"text\",\"value\":\"地域名\"}}},\"female\":{\"type\":\"numeric\",\"value\":17471,\"metadata\":{\"base_col_name\":{\"type\":\"text\",\"value\":\"女\"}}},\"male\":{\"type\":\"numeric\",\"value\":16117,\"metadata\":{\"base_col_name\":{\"type\":\"text\",\"value\":\"男\"}}},\"number_of_households\":{\"type\":\"numeric\",\"value\":13536,\"metadata\":{\"base_col_name\":{\"type\":\"text\",\"value\":\"世帯数\"}}},\"total_number\":{\"type\":\"numeric\",\"value\":33588,\"metadata\":{\"base_col_name\":{\"type\":\"text\",\"value\":\"総数\"}}}},{\"id\":\"urn:ngsi-ld:EDAA02000-2010-10-01:7\",\"type\":\"EDAA02000-2010-10-01\",\"acquisition_date\":{\"type\":\"DateTime\",\"value\":\"2010-10-01T00:00:00.000Z\",\"metadata\":{}},\"area_name\":{\"type\":\"text\",\"value\":\"山梨市\",\"metadata\":{\"base_col_name\":{\"type\":\"text\",\"value\":\"地域名\"}}},\"female\":{\"type\":\"numeric\",\"value\":19159,\"metadata\":{\"base_col_name\":{\"type\":\"text\",\"value\":\"女\"}}},\"male\":{\"type\":\"numeric\",\"value\":17673,\"metadata\":{\"base_col_name\":{\"type\":\"text\",\"value\":\"男\"}}},\"number_of_households\":{\"type\":\"numeric\",\"value\":13039,\"metadata\":{\"base_col_name\":{\"type\":\"text\",\"value\":\"世帯数\"}}},\"total_number\":{\"type\":\"numeric\",\"value\":36832,\"metadata\":{\"base_col_name\":{\"type\":\"text\",\"value\":\"総数\"}}}},{\"id\":\"urn:ngsi-ld:EDAA02000-2010-10-01:8\",\"type\":\"EDAA02000-2010-10-01\",\"acquisition_date\":{\"type\":\"DateTime\",\"value\":\"2010-10-01T00:00:00.000Z\",\"metadata\":{}},\"area_name\":{\"type\":\"text\",\"value\":\"大月市\",\"metadata\":{\"base_col_name\":{\"type\":\"text\",\"value\":\"地域名\"}}},\"female\":{\"type\":\"numeric\",\"value\":14481,\"metadata\":{\"base_col_name\":{\"type\":\"text\",\"value\":\"女\"}}},\"male\":{\"type\":\"numeric\",\"value\":13639,\"metadata\":{\"base_col_name\":{\"type\":\"text\",\"value\":\"男\"}}},\"number_of_households\":{\"type\":\"numeric\",\"value\":10151,\"metadata\":{\"base_col_name\":{\"type\":\"text\",\"value\":\"世帯数\"}}},\"total_number\":{\"type\":\"numeric\",\"value\":28120,\"metadata\":{\"base_col_name\":{\"type\":\"text\",\"value\":\"総数\"}}}},{\"id\":\"urn:ngsi-ld:EDAA02000-2010-10-01:9\",\"type\":\"EDAA02000-2010-10-01\",\"acquisition_date\":{\"type\":\"DateTime\",\"value\":\"2010-10-01T00:00:00.000Z\",\"metadata\":{}},\"area_name\":{\"type\":\"text\",\"value\":\"韮崎市\",\"metadata\":{\"base_col_name\":{\"type\":\"text\",\"value\":\"地域名\"}}},\"female\":{\"type\":\"numeric\",\"value\":16298,\"metadata\":{\"base_col_name\":{\"type\":\"text\",\"value\":\"女\"}}},\"male\":{\"type\":\"numeric\",\"value\":16179,\"metadata\":{\"base_col_name\":{\"type\":\"text\",\"value\":\"男\"}}},\"number_of_households\":{\"type\":\"numeric\",\"value\":11826,\"metadata\":{\"base_col_name\":{\"type\":\"text\",\"value\":\"世帯数\"}}},\"total_number\":{\"type\":\"numeric\",\"value\":32477,\"metadata\":{\"base_col_name\":{\"type\":\"text\",\"value\":\"総数\"}}}},{\"id\":\"urn:ngsi-ld:EDAA02000-2010-10-01:10\",\"type\":\"EDAA02000-2010-10-01\",\"acquisition_date\":{\"type\":\"DateTime\",\"value\":\"2010-10-01T00:00:00.000Z\",\"metadata\":{}},\"area_name\":{\"type\":\"text\",\"value\":\"南アルプス市\",\"metadata\":{\"base_col_name\":{\"type\":\"text\",\"value\":\"地域名\"}}},\"female\":{\"type\":\"numeric\",\"value\":36927,\"metadata\":{\"base_col_name\":{\"type\":\"text\",\"value\":\"女\"}}},\"male\":{\"type\":\"numeric\",\"value\":35708,\"metadata\":{\"base_col_name\":{\"type\":\"text\",\"value\":\"男\"}}},\"number_of_households\":{\"type\":\"numeric\",\"value\":24500,\"metadata\":{\"base_col_name\":{\"type\":\"text\",\"value\":\"世帯数\"}}},\"total_number\":{\"type\":\"numeric\",\"value\":72635,\"metadata\":{\"base_col_name\":{\"type\":\"text\",\"value\":\"総数\"}}}}]'"
            ],
            "application/vnd.google.colaboratory.intrinsic+json": {
              "type": "string"
            }
          },
          "metadata": {}
        }
      ]
    },
    {
      "cell_type": "markdown",
      "source": [
        "---\n",
        "## 3-4. 演習\n",
        "\n",
        "### 3-4-1. API利用\n",
        "\n",
        "様々なデータ取得を試してみましょう。"
      ],
      "metadata": {
        "id": "F2OiUEVpng8f"
      }
    }
  ]
}