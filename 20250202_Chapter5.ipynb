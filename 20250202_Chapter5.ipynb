{
  "nbformat": 4,
  "nbformat_minor": 0,
  "metadata": {
    "colab": {
      "provenance": [],
      "authorship_tag": "ABX9TyP2ngaoGDdKPY4o4NtmAOR2",
      "include_colab_link": true
    },
    "kernelspec": {
      "name": "python3",
      "display_name": "Python 3"
    },
    "language_info": {
      "name": "python"
    }
  },
  "cells": [
    {
      "cell_type": "markdown",
      "metadata": {
        "id": "view-in-github",
        "colab_type": "text"
      },
      "source": [
        "<a href=\"https://colab.research.google.com/github/yuukis/shingenpy_doc_20250202/blob/main/20250202_Chapter5.ipynb\" target=\"_parent\"><img src=\"https://colab.research.google.com/assets/colab-badge.svg\" alt=\"Open In Colab\"/></a>"
      ]
    },
    {
      "cell_type": "markdown",
      "source": [
        "# 5. グループワーク：可能性を探る\n",
        "\n",
        "* 個人調査 30分\n",
        "\n",
        "* グループディスカッション 60分\n"
      ],
      "metadata": {
        "id": "3x7LmUjm4WVL"
      }
    },
    {
      "cell_type": "code",
      "execution_count": null,
      "metadata": {
        "id": "xwnNXCLj4VjN"
      },
      "outputs": [],
      "source": []
    }
  ]
}