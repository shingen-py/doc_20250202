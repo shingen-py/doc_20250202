{
  "nbformat": 4,
  "nbformat_minor": 0,
  "metadata": {
    "colab": {
      "provenance": [],
      "authorship_tag": "ABX9TyPozS0bTb/Lz2tSsFjYV5MJ",
      "include_colab_link": true
    },
    "kernelspec": {
      "name": "python3",
      "display_name": "Python 3"
    },
    "language_info": {
      "name": "python"
    }
  },
  "cells": [
    {
      "cell_type": "markdown",
      "metadata": {
        "id": "view-in-github",
        "colab_type": "text"
      },
      "source": [
        "<a href=\"https://colab.research.google.com/github/yuukis/shingenpy_doc_20250202/blob/main/20250202_Chapter5.ipynb\" target=\"_parent\"><img src=\"https://colab.research.google.com/assets/colab-badge.svg\" alt=\"Open In Colab\"/></a>"
      ]
    },
    {
      "cell_type": "markdown",
      "source": [
        "# 5. グループワーク：可能性を探る\n",
        "\n",
        "この Chapter では、山梨県のオープンデータから得た分析結果を基に、地元の問題解決に向けた新しいアイデアを創出できないか探ります。\n",
        "\n",
        "## 5-1. アイデア創出\n",
        "\n",
        "* 複数のデータを選択し、相関関係を見つけたりしましょう\n",
        "* または何かデータを取り上げ、どんなアプリケーションが作成可能か考えてみましょう\n",
        "\n",
        "## 5-2. グループディスカッション\n",
        "\n",
        "* アイデア創出の結果を各自発表しましょう\n",
        "* テーマを絞り、グループで取り組んでみましょう\n",
        "\n",
        "## 5-3. フィードバック\n",
        "\n",
        "* 山梨県にフィードバックする内容をまとめます\n",
        "* 例\n",
        "  - こんなデータがあったら嬉しい\n",
        "  - ここが使いにくい\n"
      ],
      "metadata": {
        "id": "3x7LmUjm4WVL"
      }
    },
    {
      "cell_type": "code",
      "execution_count": null,
      "metadata": {
        "id": "xwnNXCLj4VjN"
      },
      "outputs": [],
      "source": []
    }
  ]
}